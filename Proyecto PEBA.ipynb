{
 "cells": [
  {
   "cell_type": "markdown",
   "id": "62409d40",
   "metadata": {},
   "source": [
    "# E-SHOPPING MARKETING ANALYSIS\n"
   ]
  },
  {
   "cell_type": "markdown",
   "id": "00f024cf",
   "metadata": {},
   "source": [
    "## 1. LIMPIEZA DE DATOS Y ANÁLISIS EXPLORATORIO"
   ]
  },
  {
   "cell_type": "markdown",
   "id": "90243273",
   "metadata": {},
   "source": [
    "## 1.1. Importamos las librerías y decargamos el dataset"
   ]
  },
  {
   "cell_type": "code",
   "execution_count": 243,
   "id": "4f94c402",
   "metadata": {},
   "outputs": [],
   "source": [
    "import pandas as pd\n",
    "import seaborn as sns\n",
    "sns.set(style=\"darkgrid\")\n",
    "import matplotlib.pyplot as plt\n",
    "%matplotlib inline"
   ]
  },
  {
   "cell_type": "code",
   "execution_count": 2,
   "id": "0aa96bb5",
   "metadata": {},
   "outputs": [],
   "source": [
    "df=pd.read_csv(\"C:/Users/Paula Pareja/Instalaciones/Desktop/Posgrado Business Analytics/PROYECTO FINAL/e-shop clothing 2008.csv\", sep=';')"
   ]
  },
  {
   "cell_type": "code",
   "execution_count": 3,
   "id": "bca3d5e2",
   "metadata": {},
   "outputs": [
    {
     "data": {
      "text/html": [
       "<div>\n",
       "<style scoped>\n",
       "    .dataframe tbody tr th:only-of-type {\n",
       "        vertical-align: middle;\n",
       "    }\n",
       "\n",
       "    .dataframe tbody tr th {\n",
       "        vertical-align: top;\n",
       "    }\n",
       "\n",
       "    .dataframe thead th {\n",
       "        text-align: right;\n",
       "    }\n",
       "</style>\n",
       "<table border=\"1\" class=\"dataframe\">\n",
       "  <thead>\n",
       "    <tr style=\"text-align: right;\">\n",
       "      <th></th>\n",
       "      <th>year</th>\n",
       "      <th>month</th>\n",
       "      <th>day</th>\n",
       "      <th>order</th>\n",
       "      <th>country</th>\n",
       "      <th>session ID</th>\n",
       "      <th>page 1 (main category)</th>\n",
       "      <th>page 2 (clothing model)</th>\n",
       "      <th>colour</th>\n",
       "      <th>location</th>\n",
       "      <th>model photography</th>\n",
       "      <th>price</th>\n",
       "      <th>price 2</th>\n",
       "      <th>page</th>\n",
       "    </tr>\n",
       "  </thead>\n",
       "  <tbody>\n",
       "    <tr>\n",
       "      <th>0</th>\n",
       "      <td>2008</td>\n",
       "      <td>4</td>\n",
       "      <td>1</td>\n",
       "      <td>1</td>\n",
       "      <td>29</td>\n",
       "      <td>1</td>\n",
       "      <td>1</td>\n",
       "      <td>A13</td>\n",
       "      <td>1</td>\n",
       "      <td>5</td>\n",
       "      <td>1</td>\n",
       "      <td>28</td>\n",
       "      <td>2</td>\n",
       "      <td>1</td>\n",
       "    </tr>\n",
       "    <tr>\n",
       "      <th>1</th>\n",
       "      <td>2008</td>\n",
       "      <td>4</td>\n",
       "      <td>1</td>\n",
       "      <td>2</td>\n",
       "      <td>29</td>\n",
       "      <td>1</td>\n",
       "      <td>1</td>\n",
       "      <td>A16</td>\n",
       "      <td>1</td>\n",
       "      <td>6</td>\n",
       "      <td>1</td>\n",
       "      <td>33</td>\n",
       "      <td>2</td>\n",
       "      <td>1</td>\n",
       "    </tr>\n",
       "    <tr>\n",
       "      <th>2</th>\n",
       "      <td>2008</td>\n",
       "      <td>4</td>\n",
       "      <td>1</td>\n",
       "      <td>3</td>\n",
       "      <td>29</td>\n",
       "      <td>1</td>\n",
       "      <td>2</td>\n",
       "      <td>B4</td>\n",
       "      <td>10</td>\n",
       "      <td>2</td>\n",
       "      <td>1</td>\n",
       "      <td>52</td>\n",
       "      <td>1</td>\n",
       "      <td>1</td>\n",
       "    </tr>\n",
       "    <tr>\n",
       "      <th>3</th>\n",
       "      <td>2008</td>\n",
       "      <td>4</td>\n",
       "      <td>1</td>\n",
       "      <td>4</td>\n",
       "      <td>29</td>\n",
       "      <td>1</td>\n",
       "      <td>2</td>\n",
       "      <td>B17</td>\n",
       "      <td>6</td>\n",
       "      <td>6</td>\n",
       "      <td>2</td>\n",
       "      <td>38</td>\n",
       "      <td>2</td>\n",
       "      <td>1</td>\n",
       "    </tr>\n",
       "    <tr>\n",
       "      <th>4</th>\n",
       "      <td>2008</td>\n",
       "      <td>4</td>\n",
       "      <td>1</td>\n",
       "      <td>5</td>\n",
       "      <td>29</td>\n",
       "      <td>1</td>\n",
       "      <td>2</td>\n",
       "      <td>B8</td>\n",
       "      <td>4</td>\n",
       "      <td>3</td>\n",
       "      <td>2</td>\n",
       "      <td>52</td>\n",
       "      <td>1</td>\n",
       "      <td>1</td>\n",
       "    </tr>\n",
       "    <tr>\n",
       "      <th>...</th>\n",
       "      <td>...</td>\n",
       "      <td>...</td>\n",
       "      <td>...</td>\n",
       "      <td>...</td>\n",
       "      <td>...</td>\n",
       "      <td>...</td>\n",
       "      <td>...</td>\n",
       "      <td>...</td>\n",
       "      <td>...</td>\n",
       "      <td>...</td>\n",
       "      <td>...</td>\n",
       "      <td>...</td>\n",
       "      <td>...</td>\n",
       "      <td>...</td>\n",
       "    </tr>\n",
       "    <tr>\n",
       "      <th>165469</th>\n",
       "      <td>2008</td>\n",
       "      <td>8</td>\n",
       "      <td>13</td>\n",
       "      <td>1</td>\n",
       "      <td>29</td>\n",
       "      <td>24024</td>\n",
       "      <td>2</td>\n",
       "      <td>B10</td>\n",
       "      <td>2</td>\n",
       "      <td>4</td>\n",
       "      <td>1</td>\n",
       "      <td>67</td>\n",
       "      <td>1</td>\n",
       "      <td>1</td>\n",
       "    </tr>\n",
       "    <tr>\n",
       "      <th>165470</th>\n",
       "      <td>2008</td>\n",
       "      <td>8</td>\n",
       "      <td>13</td>\n",
       "      <td>1</td>\n",
       "      <td>9</td>\n",
       "      <td>24025</td>\n",
       "      <td>1</td>\n",
       "      <td>A11</td>\n",
       "      <td>3</td>\n",
       "      <td>4</td>\n",
       "      <td>1</td>\n",
       "      <td>62</td>\n",
       "      <td>1</td>\n",
       "      <td>1</td>\n",
       "    </tr>\n",
       "    <tr>\n",
       "      <th>165471</th>\n",
       "      <td>2008</td>\n",
       "      <td>8</td>\n",
       "      <td>13</td>\n",
       "      <td>1</td>\n",
       "      <td>34</td>\n",
       "      <td>24026</td>\n",
       "      <td>1</td>\n",
       "      <td>A2</td>\n",
       "      <td>3</td>\n",
       "      <td>1</td>\n",
       "      <td>1</td>\n",
       "      <td>43</td>\n",
       "      <td>2</td>\n",
       "      <td>1</td>\n",
       "    </tr>\n",
       "    <tr>\n",
       "      <th>165472</th>\n",
       "      <td>2008</td>\n",
       "      <td>8</td>\n",
       "      <td>13</td>\n",
       "      <td>2</td>\n",
       "      <td>34</td>\n",
       "      <td>24026</td>\n",
       "      <td>3</td>\n",
       "      <td>C2</td>\n",
       "      <td>12</td>\n",
       "      <td>1</td>\n",
       "      <td>1</td>\n",
       "      <td>43</td>\n",
       "      <td>1</td>\n",
       "      <td>1</td>\n",
       "    </tr>\n",
       "    <tr>\n",
       "      <th>165473</th>\n",
       "      <td>2008</td>\n",
       "      <td>8</td>\n",
       "      <td>13</td>\n",
       "      <td>3</td>\n",
       "      <td>34</td>\n",
       "      <td>24026</td>\n",
       "      <td>2</td>\n",
       "      <td>B2</td>\n",
       "      <td>3</td>\n",
       "      <td>1</td>\n",
       "      <td>2</td>\n",
       "      <td>57</td>\n",
       "      <td>1</td>\n",
       "      <td>1</td>\n",
       "    </tr>\n",
       "  </tbody>\n",
       "</table>\n",
       "<p>165474 rows × 14 columns</p>\n",
       "</div>"
      ],
      "text/plain": [
       "        year  month  day  order  country  session ID  page 1 (main category)  \\\n",
       "0       2008      4    1      1       29           1                       1   \n",
       "1       2008      4    1      2       29           1                       1   \n",
       "2       2008      4    1      3       29           1                       2   \n",
       "3       2008      4    1      4       29           1                       2   \n",
       "4       2008      4    1      5       29           1                       2   \n",
       "...      ...    ...  ...    ...      ...         ...                     ...   \n",
       "165469  2008      8   13      1       29       24024                       2   \n",
       "165470  2008      8   13      1        9       24025                       1   \n",
       "165471  2008      8   13      1       34       24026                       1   \n",
       "165472  2008      8   13      2       34       24026                       3   \n",
       "165473  2008      8   13      3       34       24026                       2   \n",
       "\n",
       "       page 2 (clothing model)  colour  location  model photography  price  \\\n",
       "0                          A13       1         5                  1     28   \n",
       "1                          A16       1         6                  1     33   \n",
       "2                           B4      10         2                  1     52   \n",
       "3                          B17       6         6                  2     38   \n",
       "4                           B8       4         3                  2     52   \n",
       "...                        ...     ...       ...                ...    ...   \n",
       "165469                     B10       2         4                  1     67   \n",
       "165470                     A11       3         4                  1     62   \n",
       "165471                      A2       3         1                  1     43   \n",
       "165472                      C2      12         1                  1     43   \n",
       "165473                      B2       3         1                  2     57   \n",
       "\n",
       "        price 2  page  \n",
       "0             2     1  \n",
       "1             2     1  \n",
       "2             1     1  \n",
       "3             2     1  \n",
       "4             1     1  \n",
       "...         ...   ...  \n",
       "165469        1     1  \n",
       "165470        1     1  \n",
       "165471        2     1  \n",
       "165472        1     1  \n",
       "165473        1     1  \n",
       "\n",
       "[165474 rows x 14 columns]"
      ]
     },
     "execution_count": 3,
     "metadata": {},
     "output_type": "execute_result"
    }
   ],
   "source": [
    "df\n",
    "#Tenemos un dataset de 165474 filas y 14 columnas"
   ]
  },
  {
   "cell_type": "markdown",
   "id": "d71bce05",
   "metadata": {},
   "source": [
    "### Explicación de las variables:\n",
    "- YEAR: (2008)\n",
    "- MONTH: from April (4) to August (8)\n",
    "- DAY: day number of the month\n",
    "- ORDER: sequence of clicks during one session\n",
    "- COUNTRY: variable indicating the country of origin of the IP address with the following categories:\n",
    "    - 1. Australia\n",
    "    - 2. Austria\n",
    "    - 3. Belgium\n",
    "    - 4. British Virgin Islands\n",
    "    - 5. Cayman Islands\n",
    "    - 6. Christmas Island\n",
    "    - 7. Croatia\n",
    "    - 8. Cyprus\n",
    "    - 9. Czech Republic\n",
    "    - 10. Denmark\n",
    "    - 11. Estonia\n",
    "    - 12. unidentified\n",
    "    - 13. Faroe Islands\n",
    "    - 14. Finland\n",
    "    - 15. France\n",
    "    - 16. Germany\n",
    "    - 17. Greece\n",
    "    - 18. Hungary\n",
    "    - 19. Iceland\n",
    "    - 20. India\n",
    "    - 21. Ireland\n",
    "    - 22. Italy\n",
    "    - 23. Latvia\n",
    "    - 24. Lithuania\n",
    "    - 25. Luxembourg\n",
    "    - 26. Mexico\n",
    "    - 27. Netherlands\n",
    "    - 28. Norway\n",
    "    - 29. Poland\n",
    "    - 30. Portugal\n",
    "    - 31. Romania\n",
    "    - 32. Russia\n",
    "    - 33. San Marino\n",
    "    - 34. Slovakia\n",
    "    - 35. Slovenia\n",
    "    - 36. Spain\n",
    "    - 37. Sweden\n",
    "    - 38. Switzerland\n",
    "    - 39. Ukraine\n",
    "    - 40. United Arab Emirates\n",
    "    - 41. United Kingdom\n",
    "    - 42. USA\n",
    "    - 43. biz (*.biz) dominio de Internet genérico (TLD) previsto para ser usado por negocios\n",
    "    - 44. com (*.com) Internacional\n",
    "    - 45. int (*.int) int es un dominio de Internet genérico de nivel superior usado en las DNS de Internet. \n",
    "             #De acuerdo con la política del IANA, los dominios . int están reservados para organizaciones con tratados internacionales y organizaciones no gubernamentales con el estatus de \"observadores\" de las Naciones Unidas.\n",
    "    - 46. net (*.net)\n",
    "    - 47. org (*.org) #organizaciones\n",
    "    \n",
    "- SESSION ID: variable indicating session id (short record)\n",
    "- PAGE 1 (MAIN CATEGORY): concerns the main product category:\n",
    "    - 1. trousers\n",
    "    - 2. skirts\n",
    "    - 3. blouses\n",
    "    - 4. sale\n",
    "\n",
    "- PAGE 2 (CLOTHING MODEL): contains information about the code for each product \n",
    "    #217 products\n",
    "- COLOUR: colour of product\n",
    "    - 1. beige\n",
    "    - 2. black\n",
    "    - 3. blue\n",
    "    - 4. brown\n",
    "    - 5. burgundy\n",
    "    - 6. gray\n",
    "    - 7. green\n",
    "    - 8. navy blue\n",
    "    - 9. of many colors\n",
    "    - 10. olive\n",
    "    - 11. pink\n",
    "    - 12. red\n",
    "    - 13. violet\n",
    "    - 14. white\n",
    "\n",
    "- LOCATION: photo location on the page, the screen has been divided into six parts:\n",
    "    - 1-top left\n",
    "    - 2-top in the middle\n",
    "    - 3-top right\n",
    "    - 4-bottom left\n",
    "    - 5-bottom in the middle\n",
    "    - 6-bottom right\n",
    "\n",
    "- MODEL PHOTOGRAPHY: variable with two categories: \n",
    "    - 1. en face (de frente)\n",
    "    - 2. profile (de perfil)\n",
    "    \n",
    "- PRICE: price in US dollars\n",
    "- PRICE 2: variable informing whether the price of a particular product is higher than the average price for the entire product category\n",
    "    - 1. yes\n",
    "    - 2. no\n",
    "- PAGE: page number within the e-store website (from 1 to 5)"
   ]
  },
  {
   "cell_type": "markdown",
   "id": "f57d47bc",
   "metadata": {},
   "source": [
    "## 1.2. Limpieza de los datos"
   ]
  },
  {
   "cell_type": "code",
   "execution_count": 4,
   "id": "0f212618",
   "metadata": {},
   "outputs": [
    {
     "data": {
      "text/plain": [
       "Index(['year', 'month', 'day', 'order', 'country', 'session ID',\n",
       "       'page 1 (main category)', 'page 2 (clothing model)', 'colour',\n",
       "       'location', 'model photography', 'price', 'price 2', 'page'],\n",
       "      dtype='object')"
      ]
     },
     "execution_count": 4,
     "metadata": {},
     "output_type": "execute_result"
    }
   ],
   "source": [
    "df.columns\n",
    "    #El dataset incluye variables como la fecha en el se realizó la compra (año, mes y día), la orden de compra, el país,\n",
    "        #el ID de la sesión, la categoría del producto, la modelo, el color\n",
    "        #la localización, la fotografía, el precio, si el precio está fuera de lo normal, y la página"
   ]
  },
  {
   "cell_type": "code",
   "execution_count": 5,
   "id": "66fc7a0b",
   "metadata": {},
   "outputs": [
    {
     "data": {
      "text/plain": [
       "Index(['year', 'month', 'day', 'order', 'country', 'session_ID',\n",
       "       'page_1_(main_category)', 'page_2_(clothing_model)', 'colour',\n",
       "       'location', 'model_photography', 'price', 'price_2', 'page'],\n",
       "      dtype='object')"
      ]
     },
     "execution_count": 5,
     "metadata": {},
     "output_type": "execute_result"
    }
   ],
   "source": [
    "#Viendo el nombre de las variables, considero necesario cambiarlo para hacer más sencillo el desarrollo del proyecto\n",
    "#Primero sustituimos los espacios por \"_\"\n",
    "df.columns = df.columns.str.replace(' ','_')\n",
    "df.columns"
   ]
  },
  {
   "cell_type": "code",
   "execution_count": 6,
   "id": "a2566658",
   "metadata": {},
   "outputs": [
    {
     "data": {
      "text/plain": [
       "Index(['year', 'month', 'day', 'clics', 'country', 'session_ID', 'category',\n",
       "       'clothing_code', 'colour', 'location', 'model_photography', 'price',\n",
       "       'overpriced', 'page'],\n",
       "      dtype='object')"
      ]
     },
     "execution_count": 6,
     "metadata": {},
     "output_type": "execute_result"
    }
   ],
   "source": [
    "#A continuación, simplifico los nombres complejos de columnas y cambio a otros más descriptivos para localizarlas fácilmente\n",
    "df = df.rename(columns={'order': 'clics', 'page_1_(main_category)': 'category', 'page_2_(clothing_model)': 'clothing_code','price_2': 'overpriced'})\n",
    "df.columns\n",
    "        #Index(['year', 'month', 'day', 'clics', 'country', 'session_ID', 'category',\n",
    "             #  'clothing_code', 'colour', 'location', 'model_photography', 'price',\n",
    "             #  'overpriced', 'page']"
   ]
  },
  {
   "cell_type": "code",
   "execution_count": 7,
   "id": "08288d28",
   "metadata": {},
   "outputs": [
    {
     "data": {
      "text/html": [
       "<div>\n",
       "<style scoped>\n",
       "    .dataframe tbody tr th:only-of-type {\n",
       "        vertical-align: middle;\n",
       "    }\n",
       "\n",
       "    .dataframe tbody tr th {\n",
       "        vertical-align: top;\n",
       "    }\n",
       "\n",
       "    .dataframe thead th {\n",
       "        text-align: right;\n",
       "    }\n",
       "</style>\n",
       "<table border=\"1\" class=\"dataframe\">\n",
       "  <thead>\n",
       "    <tr style=\"text-align: right;\">\n",
       "      <th></th>\n",
       "      <th>year</th>\n",
       "      <th>month</th>\n",
       "      <th>day</th>\n",
       "      <th>clics</th>\n",
       "      <th>country</th>\n",
       "      <th>session_ID</th>\n",
       "      <th>category</th>\n",
       "      <th>clothing_code</th>\n",
       "      <th>colour</th>\n",
       "      <th>location</th>\n",
       "      <th>model_photography</th>\n",
       "      <th>price</th>\n",
       "      <th>overpriced</th>\n",
       "      <th>page</th>\n",
       "    </tr>\n",
       "  </thead>\n",
       "  <tbody>\n",
       "    <tr>\n",
       "      <th>0</th>\n",
       "      <td>2008</td>\n",
       "      <td>4</td>\n",
       "      <td>1</td>\n",
       "      <td>1</td>\n",
       "      <td>29</td>\n",
       "      <td>1</td>\n",
       "      <td>1</td>\n",
       "      <td>A13</td>\n",
       "      <td>1</td>\n",
       "      <td>5</td>\n",
       "      <td>1</td>\n",
       "      <td>28</td>\n",
       "      <td>2</td>\n",
       "      <td>1</td>\n",
       "    </tr>\n",
       "    <tr>\n",
       "      <th>1</th>\n",
       "      <td>2008</td>\n",
       "      <td>4</td>\n",
       "      <td>1</td>\n",
       "      <td>2</td>\n",
       "      <td>29</td>\n",
       "      <td>1</td>\n",
       "      <td>1</td>\n",
       "      <td>A16</td>\n",
       "      <td>1</td>\n",
       "      <td>6</td>\n",
       "      <td>1</td>\n",
       "      <td>33</td>\n",
       "      <td>2</td>\n",
       "      <td>1</td>\n",
       "    </tr>\n",
       "    <tr>\n",
       "      <th>2</th>\n",
       "      <td>2008</td>\n",
       "      <td>4</td>\n",
       "      <td>1</td>\n",
       "      <td>3</td>\n",
       "      <td>29</td>\n",
       "      <td>1</td>\n",
       "      <td>2</td>\n",
       "      <td>B4</td>\n",
       "      <td>10</td>\n",
       "      <td>2</td>\n",
       "      <td>1</td>\n",
       "      <td>52</td>\n",
       "      <td>1</td>\n",
       "      <td>1</td>\n",
       "    </tr>\n",
       "    <tr>\n",
       "      <th>3</th>\n",
       "      <td>2008</td>\n",
       "      <td>4</td>\n",
       "      <td>1</td>\n",
       "      <td>4</td>\n",
       "      <td>29</td>\n",
       "      <td>1</td>\n",
       "      <td>2</td>\n",
       "      <td>B17</td>\n",
       "      <td>6</td>\n",
       "      <td>6</td>\n",
       "      <td>2</td>\n",
       "      <td>38</td>\n",
       "      <td>2</td>\n",
       "      <td>1</td>\n",
       "    </tr>\n",
       "    <tr>\n",
       "      <th>4</th>\n",
       "      <td>2008</td>\n",
       "      <td>4</td>\n",
       "      <td>1</td>\n",
       "      <td>5</td>\n",
       "      <td>29</td>\n",
       "      <td>1</td>\n",
       "      <td>2</td>\n",
       "      <td>B8</td>\n",
       "      <td>4</td>\n",
       "      <td>3</td>\n",
       "      <td>2</td>\n",
       "      <td>52</td>\n",
       "      <td>1</td>\n",
       "      <td>1</td>\n",
       "    </tr>\n",
       "  </tbody>\n",
       "</table>\n",
       "</div>"
      ],
      "text/plain": [
       "   year  month  day  clics  country  session_ID  category clothing_code  \\\n",
       "0  2008      4    1      1       29           1         1           A13   \n",
       "1  2008      4    1      2       29           1         1           A16   \n",
       "2  2008      4    1      3       29           1         2            B4   \n",
       "3  2008      4    1      4       29           1         2           B17   \n",
       "4  2008      4    1      5       29           1         2            B8   \n",
       "\n",
       "   colour  location  model_photography  price  overpriced  page  \n",
       "0       1         5                  1     28           2     1  \n",
       "1       1         6                  1     33           2     1  \n",
       "2      10         2                  1     52           1     1  \n",
       "3       6         6                  2     38           2     1  \n",
       "4       4         3                  2     52           1     1  "
      ]
     },
     "execution_count": 7,
     "metadata": {},
     "output_type": "execute_result"
    }
   ],
   "source": [
    "df.head(5)"
   ]
  },
  {
   "cell_type": "code",
   "execution_count": 8,
   "id": "0a238497",
   "metadata": {},
   "outputs": [
    {
     "data": {
      "text/plain": [
       "(165474, 14)"
      ]
     },
     "execution_count": 8,
     "metadata": {},
     "output_type": "execute_result"
    }
   ],
   "source": [
    "df.shape\n",
    "    #El dataset incluye 165.474 filas y 14 columnas\n",
    "    #Cada fila corresponde a un producto vendido, por lo que se han vendido 165474 productos\n",
    "    #Esto quiere decir que la misma persona ha podido comprar varios productos (más de una fila)"
   ]
  },
  {
   "cell_type": "code",
   "execution_count": 9,
   "id": "51b7e50d",
   "metadata": {},
   "outputs": [
    {
     "name": "stdout",
     "output_type": "stream",
     "text": [
      "<class 'pandas.core.frame.DataFrame'>\n",
      "RangeIndex: 165474 entries, 0 to 165473\n",
      "Data columns (total 14 columns):\n",
      " #   Column             Non-Null Count   Dtype \n",
      "---  ------             --------------   ----- \n",
      " 0   year               165474 non-null  int64 \n",
      " 1   month              165474 non-null  int64 \n",
      " 2   day                165474 non-null  int64 \n",
      " 3   clics              165474 non-null  int64 \n",
      " 4   country            165474 non-null  int64 \n",
      " 5   session_ID         165474 non-null  int64 \n",
      " 6   category           165474 non-null  int64 \n",
      " 7   clothing_code      165474 non-null  object\n",
      " 8   colour             165474 non-null  int64 \n",
      " 9   location           165474 non-null  int64 \n",
      " 10  model_photography  165474 non-null  int64 \n",
      " 11  price              165474 non-null  int64 \n",
      " 12  overpriced         165474 non-null  int64 \n",
      " 13  page               165474 non-null  int64 \n",
      "dtypes: int64(13), object(1)\n",
      "memory usage: 17.7+ MB\n"
     ]
    }
   ],
   "source": [
    "df.info()\n",
    "    #Todas las variables son numéricas (tipo int) salvo \"clothing code\" la cual es tipo texto (object)\n",
    "    #Dicha variable continee el código correspondiente a cada producto"
   ]
  },
  {
   "cell_type": "code",
   "execution_count": 10,
   "id": "2fc722f4",
   "metadata": {},
   "outputs": [],
   "source": [
    "#Creo que es más interesante combinar las celdas mes día año en una sola columna de fecha\n",
    "#Aún así dejaré las columnas mes día año para analizarlas al detalle y por si necesito celdas numéricas para el análisis\n",
    "df['date'] = df['month'] + df['day'] + df['year']\n",
    "df['date'] = pd.to_datetime(df[['month', 'day', 'year']])"
   ]
  },
  {
   "cell_type": "code",
   "execution_count": 11,
   "id": "0c5c5dca",
   "metadata": {},
   "outputs": [
    {
     "data": {
      "text/plain": [
       "Index(['year', 'month', 'day', 'clics', 'country', 'session_ID', 'category',\n",
       "       'clothing_code', 'colour', 'location', 'model_photography', 'price',\n",
       "       'overpriced', 'page', 'date'],\n",
       "      dtype='object')"
      ]
     },
     "execution_count": 11,
     "metadata": {},
     "output_type": "execute_result"
    }
   ],
   "source": [
    "df.columns"
   ]
  },
  {
   "cell_type": "markdown",
   "id": "8d060d2b",
   "metadata": {},
   "source": [
    "Por ende, las variables quedarían así:\n",
    " - **Year**: año en el que se realizó la compra\n",
    " - **Month**: mes en el que se realizó la compra\n",
    " - **Day**: día en el que se realizó la compra\n",
    " - **Clics**: clics durante una sesión\n",
    " - **Country**: país IP\n",
    " - **Session ID**: la ID de sesión (que corresponde al ID del cliente)\n",
    " - **Category**: categoría del producto (pantalones, faldas, blusas o rebajas)\n",
    " - **Clothing_code**: código de cada producto\n",
    " - **Colour**: color del producto\n",
    " - **Location**: localización dentro de la página (arriba izquierda, medio, y derecho, abajo izquierda, medio o derecha)\n",
    " - **Model_photography**: foto de cara o perfil\n",
    " - **Price**: precio\n",
    " - **Overpriced**: si el precio se encuentra fuera de su precio habitual\n",
    " - **Page**: el número de la página dentro de la página web\n",
    " - **Date**: fecha en la que se realizó la compra"
   ]
  },
  {
   "cell_type": "markdown",
   "id": "f01a4f68",
   "metadata": {},
   "source": [
    "Haciendo un primer análisis de las variables con las contamos puedo identificar algunos campos de mejora en la recopilación de datos de la empresa. Deben añadirse algunas variables esenciales para mejorar la cultura de datos: \n",
    "\n",
    " - Hora de la compra: una variable esencial para el lanzamiento de campañas de marketing y análisis del comportamiento del cliente.\n",
    " - Tiempo del usuario en la web: si bien aparecen los clics durante la sesión (compra de un producto), no podemos saber ni a qué producto se han realizado esos clics, ni contamos con grabaciones de pantalla para valorar la experiencia de usuario. \n",
    "     - Si tuviéramos clics por producto podríamos saber el nivel de interés en el producto y si vende en proporciónEdadd  al interés (si el interés es alto y las ventas son pocas es que existe un problema con el producto en concreto aunque haya demanda o llame la atención).\n",
    " - Edad del comprador: esta variable también es muy importante para analizar los tipos de compradores, hacer clusterizaciones y delimitar el público objetivo de la marca.\n",
    " - No compradores: cada fila, registro único, representa una venta con un identificador. Sin embargo, no contamos con ninguna información sobre los usuarios de la web que no han realizado compras. \n",
    "     - Esto es una fuente de gran riqueza informativa para el análisis pues nos permitiría analizar el comportamiento de todo el público objetivo, identificar fallos y encontrar oportunidades de venta o mejora de la experiencia de usuario. Podríamos analizar también el comportamiento del comprador a lo largo del tiempo (si entra muchas veces en la web antes de comprar o no, por ejemplo).\n",
    " - Explicación de las diferentes páginas de la web. \n",
    "     - Sin entender cómo está estructurada la web es difícil realizar un análisis exhaustivo ni aportar consejos para el marketing del e-commerce. Esta es gran limitación para el análisis. \n",
    " \n",
    "\n",
    "Todo esto se podría obtener a través de herramientas como Google Analytics e incomporar en nuestra base de datos para futuros análisis. Teniendo en cuenta esto, proseguiremos con la limpieza de los datos."
   ]
  },
  {
   "cell_type": "code",
   "execution_count": 12,
   "id": "0613c9fb",
   "metadata": {},
   "outputs": [
    {
     "data": {
      "text/plain": [
       "year                 0\n",
       "month                0\n",
       "day                  0\n",
       "clics                0\n",
       "country              0\n",
       "session_ID           0\n",
       "category             0\n",
       "clothing_code        0\n",
       "colour               0\n",
       "location             0\n",
       "model_photography    0\n",
       "price                0\n",
       "overpriced           0\n",
       "page                 0\n",
       "date                 0\n",
       "dtype: int64"
      ]
     },
     "execution_count": 12,
     "metadata": {},
     "output_type": "execute_result"
    }
   ],
   "source": [
    "# En primer lugar, verificamos si hay valores nulos\n",
    "df.isnull().sum()"
   ]
  },
  {
   "cell_type": "markdown",
   "id": "404278bb",
   "metadata": {},
   "source": [
    "En este dataset no hay ningún valor perdido"
   ]
  },
  {
   "cell_type": "code",
   "execution_count": 13,
   "id": "11763489",
   "metadata": {},
   "outputs": [
    {
     "data": {
      "image/png": "[encoded data removed]",
      "text/plain": [
       "<Figure size 1600x1400 with 16 Axes>"
      ]
     },
     "metadata": {},
     "output_type": "display_data"
    }
   ],
   "source": [
    "#A continuación verificamos si hay valores atípicos\n",
    "#Para ello en primer lugar vamos a quedarnos solo con las variables numéricas\n",
    "dfnum = df.drop(columns = ['clothing_code','date'])\n",
    "\n",
    "#Lo representaremos para poder ver si hay outliers \n",
    "fig,ax= plt.subplots(ncols=4,nrows=4,figsize=(16, 14)) \n",
    "for variable, subplot in zip(dfnum.columns,ax.flatten()):\n",
    "    boxdetails = sns.boxplot(x = dfnum[variable], ax=subplot, palette=\"Blues\", width=0.3, fliersize=0.3) \n",
    "    boxdetails.set_xlabel(variable, fontsize = 10)\n",
    "plt.show()"
   ]
  },
  {
   "cell_type": "markdown",
   "id": "fefacf92",
   "metadata": {},
   "source": [
    "Con esto podemos ver que solo tiene sentido analizar si hay valores atípicos en algunas de las variables. \n",
    "De hecho, en nuestro dataset solo tiene sentido analizar si hay valores atípicos en el precio y en clics\n",
    "<br>\n",
    "Lo he considerado así porque en la mayoría de las variables solo hay varias opciones. En el caso de categoria del producto hay cuatro (pantalones, faldas, blusas, ofertas)\n",
    "<br>\n",
    "Respecto a las siguientes variables:\n",
    "- país tendremos que analizarla más detalladamente, pero no son outliers lo que aparece en la gráfica\n",
    "- página solo tiene cinco opciones, aunque la 4 y la 5 aparezcan como outliers esto solo revela que se han vendido pocos productos en estas páginas "
   ]
  },
  {
   "cell_type": "markdown",
   "id": "868cd47a",
   "metadata": {},
   "source": [
    "## 1.3. Análisis de cada variable"
   ]
  },
  {
   "cell_type": "markdown",
   "id": "0cf65cfe",
   "metadata": {},
   "source": [
    "### Fecha"
   ]
  },
  {
   "cell_type": "code",
   "execution_count": 19,
   "id": "b6d777c8",
   "metadata": {},
   "outputs": [
    {
     "data": {
      "text/plain": [
       "count    165474.0\n",
       "mean       2008.0\n",
       "std           0.0\n",
       "min        2008.0\n",
       "25%        2008.0\n",
       "50%        2008.0\n",
       "75%        2008.0\n",
       "max        2008.0\n",
       "Name: year, dtype: float64"
      ]
     },
     "execution_count": 19,
     "metadata": {},
     "output_type": "execute_result"
    }
   ],
   "source": [
    "df.year.describe()"
   ]
  },
  {
   "cell_type": "code",
   "execution_count": 20,
   "id": "ff1b6f3d",
   "metadata": {},
   "outputs": [
    {
     "data": {
      "text/plain": [
       "count    165474.000000\n",
       "mean          5.585887\n",
       "std           1.328160\n",
       "min           4.000000\n",
       "25%           4.000000\n",
       "50%           5.000000\n",
       "75%           7.000000\n",
       "max           8.000000\n",
       "Name: month, dtype: float64"
      ]
     },
     "execution_count": 20,
     "metadata": {},
     "output_type": "execute_result"
    }
   ],
   "source": [
    "df.month.describe()"
   ]
  },
  {
   "cell_type": "code",
   "execution_count": 21,
   "id": "1f72dada",
   "metadata": {},
   "outputs": [
    {
     "data": {
      "text/plain": [
       "count    165474.000000\n",
       "mean         14.524554\n",
       "std           8.830374\n",
       "min           1.000000\n",
       "25%           7.000000\n",
       "50%          14.000000\n",
       "75%          22.000000\n",
       "max          31.000000\n",
       "Name: day, dtype: float64"
      ]
     },
     "execution_count": 21,
     "metadata": {},
     "output_type": "execute_result"
    }
   ],
   "source": [
    "df.day.describe()"
   ]
  },
  {
   "cell_type": "markdown",
   "id": "6bcca3a6",
   "metadata": {},
   "source": [
    "Los datos corresponden a la temporada de abril a agosto de 2008. Debemos tener en cuenta el año, en primer lugar, ya que la economía global se estaba viendo sumergida en una gran crisis. La inflación hacía que los productos se encarecieran. La crisis hizo disminuir la demanda pues las personas necesitaban ahorros y gastaban menos dinero en ropa. "
   ]
  },
  {
   "cell_type": "markdown",
   "id": "63dfb62e",
   "metadata": {},
   "source": [
    "Vamos a analizar con mayor detalle las compras dentro del mes y día:"
   ]
  },
  {
   "cell_type": "code",
   "execution_count": 25,
   "id": "8820ece0",
   "metadata": {},
   "outputs": [
    {
     "data": {
      "text/plain": [
       "<AxesSubplot:xlabel='month', ylabel='Count'>"
      ]
     },
     "execution_count": 25,
     "metadata": {},
     "output_type": "execute_result"
    },
    {
     "data": {
      "image/png": "[encoded data removed]",
      "text/plain": [
       "<Figure size 640x480 with 1 Axes>"
      ]
     },
     "metadata": {},
     "output_type": "display_data"
    }
   ],
   "source": [
    "sns.histplot(data=df, x='month', kde=True, palette=\"Blues\", bins=47) \n",
    "#El mes de abril fue en el que hubo mayores ventas y agosto en el que menos (con gran diferencia)\n",
    "#Los meses de mayo, junio y julio se mantuvieron estables, con una pequeña caída en junio.\n",
    "\n",
    "#Si observáramos los datos históricos de otros años, tomaríamos nota de las épocas del año en las que los productos se compran con más frecuencia \n",
    "#y si hubiera un patrón discernible, podríamos tener las temporadas claramente definidas y ser capaz de formular estrategias de venta en torno a estos periodos de tiempo\n",
    "#Sin embargo, al tener solo cuatro meses en nuestro histórico, solo podemos hacer deducciones según la estacionalidad de ventas del mercado retail\n",
    "\n",
    "#La ropa es un producto que se adapta a la estacionalidad. No es igual a otros negocios como por ejemplo una tienda de calefactores, que aumentará la demanda de manera desproporcional al comienzo del invierno\n",
    "#Vamos a analizar las ventas por tipo de producto"
   ]
  },
  {
   "cell_type": "code",
   "execution_count": 115,
   "id": "fe0c0982",
   "metadata": {
    "scrolled": true
   },
   "outputs": [
    {
     "name": "stderr",
     "output_type": "stream",
     "text": [
      "C:\\Users\\Paula Pareja\\AppData\\Local\\Temp\\ipykernel_14480\\2981898206.py:2: FutureWarning: Indexing with multiple keys (implicitly converted to a tuple of keys) will be deprecated, use a list instead.\n",
      "  category = df.groupby('month')['month','category'].value_counts()\n"
     ]
    },
    {
     "data": {
      "text/plain": [
       "month  category\n",
       "4      1           14314\n",
       "       4           11584\n",
       "       3           11287\n",
       "       2           11014\n",
       "5      1           10942\n",
       "       2            8951\n",
       "       3            8417\n",
       "       4            7344\n",
       "6      1            9491\n",
       "       2            8263\n",
       "       3            7770\n",
       "       4            6718\n",
       "7      1           10871\n",
       "       4            9120\n",
       "       3            7858\n",
       "       2            7382\n",
       "8      1            4124\n",
       "       4            3981\n",
       "       3            3245\n",
       "       2            2798\n",
       "dtype: int64"
      ]
     },
     "execution_count": 115,
     "metadata": {},
     "output_type": "execute_result"
    }
   ],
   "source": [
    "#Voy a crear una tabla con cada mes y sus ventas en precio\n",
    "category = df.groupby('month')['month','category'].value_counts()\n",
    "category\n",
    "\n",
    "#Siendo las categorías trousers (1), skirts (2), blouses (3) y sale (4), podemos observar que se venden más pantalones y faldas\n",
    "#En los meses de mayo y junio se venden menos rebajas"
   ]
  },
  {
   "cell_type": "code",
   "execution_count": 125,
   "id": "33dace1c",
   "metadata": {},
   "outputs": [
    {
     "data": {
      "text/plain": [
       "<seaborn.axisgrid.FacetGrid at 0x1a16dba0160>"
      ]
     },
     "execution_count": 125,
     "metadata": {},
     "output_type": "execute_result"
    },
    {
     "data": {
      "image/png": "[encoded data removed]",
      "text/plain": [
       "<Figure size 576.097x500 with 1 Axes>"
      ]
     },
     "metadata": {},
     "output_type": "display_data"
    }
   ],
   "source": [
    "sns.displot(data=df, x=\"month\", hue='category', kind=\"kde\")\n",
    "#En la gráfica visualizamos muy bien la diferencia en la venta de pantalones frente a las demás categorías\n",
    "#También se puede observar como suben las ventas de rebajas en julio y agosto\n",
    "\n",
    "#Posteriomente analizaremos más en detalle las diferentes variables en su temporalidad"
   ]
  },
  {
   "cell_type": "markdown",
   "id": "bf30ee9f",
   "metadata": {},
   "source": [
    "### País"
   ]
  },
  {
   "cell_type": "code",
   "execution_count": 127,
   "id": "2f115ffd",
   "metadata": {},
   "outputs": [
    {
     "data": {
      "text/plain": [
       "count    165474.000000\n",
       "mean         26.952621\n",
       "std           7.150691\n",
       "min           1.000000\n",
       "25%          29.000000\n",
       "50%          29.000000\n",
       "75%          29.000000\n",
       "max          47.000000\n",
       "Name: country, dtype: float64"
      ]
     },
     "execution_count": 127,
     "metadata": {},
     "output_type": "execute_result"
    }
   ],
   "source": [
    "df.country.describe()\n",
    "#Podemos ver que hay 47 países (o IPs)\n",
    "#el percentil 25, 50 y 75 es 29, esto muestra que se vendieron desproporcionalmente más productos en ese país (Polonia)"
   ]
  },
  {
   "cell_type": "code",
   "execution_count": 128,
   "id": "8b736624",
   "metadata": {},
   "outputs": [
    {
     "data": {
      "text/plain": [
       "<AxesSubplot:xlabel='country', ylabel='Count'>"
      ]
     },
     "execution_count": 128,
     "metadata": {},
     "output_type": "execute_result"
    },
    {
     "data": {
      "image/png": "[encoded data removed]",
      "text/plain": [
       "<Figure size 640x480 with 1 Axes>"
      ]
     },
     "metadata": {},
     "output_type": "display_data"
    }
   ],
   "source": [
    "sns.histplot(data=df, x='country', kde=True, palette=\"Blues\", bins=47) \n",
    "#no tiene sentido quitar outliers, cuando lo representamos todos son outliers pues todos se repiten muy poco menos tres de ellos"
   ]
  },
  {
   "cell_type": "code",
   "execution_count": 129,
   "id": "a573d4bd",
   "metadata": {},
   "outputs": [
    {
     "data": {
      "text/plain": [
       "country  country\n",
       "1        1               3\n",
       "2        2              58\n",
       "3        3             256\n",
       "4        4               1\n",
       "5        5               4\n",
       "6        6               5\n",
       "7        7               9\n",
       "8        8               1\n",
       "9        9           18003\n",
       "10       10            152\n",
       "11       11            115\n",
       "12       12            210\n",
       "13       13              2\n",
       "14       14             43\n",
       "15       15            125\n",
       "16       16            834\n",
       "17       17             23\n",
       "18       18             18\n",
       "19       19             29\n",
       "20       20             10\n",
       "21       21            811\n",
       "22       22            144\n",
       "23       23             46\n",
       "24       24           4091\n",
       "25       25             71\n",
       "26       26              2\n",
       "27       27            227\n",
       "28       28            139\n",
       "29       29         133963\n",
       "30       30              5\n",
       "31       31            144\n",
       "32       32             49\n",
       "33       33              3\n",
       "34       34            716\n",
       "35       35              3\n",
       "36       36             19\n",
       "37       37            163\n",
       "38       38            137\n",
       "39       39             34\n",
       "40       40              1\n",
       "41       41            684\n",
       "42       42            170\n",
       "43       43             31\n",
       "44       44           1385\n",
       "45       45              6\n",
       "46       46           2522\n",
       "47       47              7\n",
       "Name: country, dtype: int64"
      ]
     },
     "execution_count": 129,
     "metadata": {},
     "output_type": "execute_result"
    }
   ],
   "source": [
    "df_country = df.groupby('country')['country'].value_counts()\n",
    "df_country"
   ]
  },
  {
   "cell_type": "markdown",
   "id": "6bbbc977",
   "metadata": {},
   "source": [
    "#### Los países nº 29 (133963), 9 (18003), 24 (4091) son aquellos en los que ha habido más ventas, correspondientes a Polonia, Republica Checa, y Lithuania. Además, las páginas .net y .com aparecen con mayor frecuencia. En estas últimas desconocemos cuál es la dirección IP concreta. "
   ]
  },
  {
   "cell_type": "markdown",
   "id": "d439f12b",
   "metadata": {},
   "source": [
    "Si bien podríamos considerar los países que aparecen menos de 10 veces, por ejemplo\n",
    " \n",
    "Esto eliminaría el número 45 y 47, referido a organismos internacionales y organizaciones\n",
    "Puede ser interesante incluirlo en el análisis por lo que no eliminaremos estos países.\n",
    "Aún así se me plantea la duda de si 7 ventas son relevantes o puede comprometer el análisis, cuando tenemos un total de 165000 ventas. Por el momento voy a dejarlas y más adelante en el desarrollo de los modelos veré si debo eliminar estos países"
   ]
  },
  {
   "cell_type": "markdown",
   "id": "2796bff8",
   "metadata": {},
   "source": [
    "Los demás países tienen menos de 1000 ventas, incluso muchos tienen menos de 50. Vamos a ver cuáles son y a crear una tabla con ventas mayores a 1000, entre 1000 y 50 y menores que 50"
   ]
  },
  {
   "cell_type": "code",
   "execution_count": 130,
   "id": "8245a238",
   "metadata": {},
   "outputs": [],
   "source": [
    "country1 = pd.DataFrame(data=df_country.index, columns=['country'])\n",
    "country2 = pd.DataFrame(data=df_country.values, columns=['sale'])\n",
    "df_country = pd.merge(country1, country2, left_index=True, right_index=True)"
   ]
  },
  {
   "cell_type": "code",
   "execution_count": 131,
   "id": "35296215",
   "metadata": {},
   "outputs": [
    {
     "data": {
      "text/html": [
       "<div>\n",
       "<style scoped>\n",
       "    .dataframe tbody tr th:only-of-type {\n",
       "        vertical-align: middle;\n",
       "    }\n",
       "\n",
       "    .dataframe tbody tr th {\n",
       "        vertical-align: top;\n",
       "    }\n",
       "\n",
       "    .dataframe thead th {\n",
       "        text-align: right;\n",
       "    }\n",
       "</style>\n",
       "<table border=\"1\" class=\"dataframe\">\n",
       "  <thead>\n",
       "    <tr style=\"text-align: right;\">\n",
       "      <th></th>\n",
       "      <th>country</th>\n",
       "      <th>sale</th>\n",
       "    </tr>\n",
       "  </thead>\n",
       "  <tbody>\n",
       "    <tr>\n",
       "      <th>0</th>\n",
       "      <td>(1, 1)</td>\n",
       "      <td>3</td>\n",
       "    </tr>\n",
       "    <tr>\n",
       "      <th>1</th>\n",
       "      <td>(2, 2)</td>\n",
       "      <td>58</td>\n",
       "    </tr>\n",
       "    <tr>\n",
       "      <th>2</th>\n",
       "      <td>(3, 3)</td>\n",
       "      <td>256</td>\n",
       "    </tr>\n",
       "    <tr>\n",
       "      <th>3</th>\n",
       "      <td>(4, 4)</td>\n",
       "      <td>1</td>\n",
       "    </tr>\n",
       "    <tr>\n",
       "      <th>4</th>\n",
       "      <td>(5, 5)</td>\n",
       "      <td>4</td>\n",
       "    </tr>\n",
       "    <tr>\n",
       "      <th>5</th>\n",
       "      <td>(6, 6)</td>\n",
       "      <td>5</td>\n",
       "    </tr>\n",
       "    <tr>\n",
       "      <th>6</th>\n",
       "      <td>(7, 7)</td>\n",
       "      <td>9</td>\n",
       "    </tr>\n",
       "    <tr>\n",
       "      <th>7</th>\n",
       "      <td>(8, 8)</td>\n",
       "      <td>1</td>\n",
       "    </tr>\n",
       "    <tr>\n",
       "      <th>8</th>\n",
       "      <td>(9, 9)</td>\n",
       "      <td>18003</td>\n",
       "    </tr>\n",
       "    <tr>\n",
       "      <th>9</th>\n",
       "      <td>(10, 10)</td>\n",
       "      <td>152</td>\n",
       "    </tr>\n",
       "    <tr>\n",
       "      <th>10</th>\n",
       "      <td>(11, 11)</td>\n",
       "      <td>115</td>\n",
       "    </tr>\n",
       "    <tr>\n",
       "      <th>11</th>\n",
       "      <td>(12, 12)</td>\n",
       "      <td>210</td>\n",
       "    </tr>\n",
       "    <tr>\n",
       "      <th>12</th>\n",
       "      <td>(13, 13)</td>\n",
       "      <td>2</td>\n",
       "    </tr>\n",
       "    <tr>\n",
       "      <th>13</th>\n",
       "      <td>(14, 14)</td>\n",
       "      <td>43</td>\n",
       "    </tr>\n",
       "    <tr>\n",
       "      <th>14</th>\n",
       "      <td>(15, 15)</td>\n",
       "      <td>125</td>\n",
       "    </tr>\n",
       "    <tr>\n",
       "      <th>15</th>\n",
       "      <td>(16, 16)</td>\n",
       "      <td>834</td>\n",
       "    </tr>\n",
       "    <tr>\n",
       "      <th>16</th>\n",
       "      <td>(17, 17)</td>\n",
       "      <td>23</td>\n",
       "    </tr>\n",
       "    <tr>\n",
       "      <th>17</th>\n",
       "      <td>(18, 18)</td>\n",
       "      <td>18</td>\n",
       "    </tr>\n",
       "    <tr>\n",
       "      <th>18</th>\n",
       "      <td>(19, 19)</td>\n",
       "      <td>29</td>\n",
       "    </tr>\n",
       "    <tr>\n",
       "      <th>19</th>\n",
       "      <td>(20, 20)</td>\n",
       "      <td>10</td>\n",
       "    </tr>\n",
       "    <tr>\n",
       "      <th>20</th>\n",
       "      <td>(21, 21)</td>\n",
       "      <td>811</td>\n",
       "    </tr>\n",
       "    <tr>\n",
       "      <th>21</th>\n",
       "      <td>(22, 22)</td>\n",
       "      <td>144</td>\n",
       "    </tr>\n",
       "    <tr>\n",
       "      <th>22</th>\n",
       "      <td>(23, 23)</td>\n",
       "      <td>46</td>\n",
       "    </tr>\n",
       "    <tr>\n",
       "      <th>23</th>\n",
       "      <td>(24, 24)</td>\n",
       "      <td>4091</td>\n",
       "    </tr>\n",
       "    <tr>\n",
       "      <th>24</th>\n",
       "      <td>(25, 25)</td>\n",
       "      <td>71</td>\n",
       "    </tr>\n",
       "    <tr>\n",
       "      <th>25</th>\n",
       "      <td>(26, 26)</td>\n",
       "      <td>2</td>\n",
       "    </tr>\n",
       "    <tr>\n",
       "      <th>26</th>\n",
       "      <td>(27, 27)</td>\n",
       "      <td>227</td>\n",
       "    </tr>\n",
       "    <tr>\n",
       "      <th>27</th>\n",
       "      <td>(28, 28)</td>\n",
       "      <td>139</td>\n",
       "    </tr>\n",
       "    <tr>\n",
       "      <th>28</th>\n",
       "      <td>(29, 29)</td>\n",
       "      <td>133963</td>\n",
       "    </tr>\n",
       "    <tr>\n",
       "      <th>29</th>\n",
       "      <td>(30, 30)</td>\n",
       "      <td>5</td>\n",
       "    </tr>\n",
       "    <tr>\n",
       "      <th>30</th>\n",
       "      <td>(31, 31)</td>\n",
       "      <td>144</td>\n",
       "    </tr>\n",
       "    <tr>\n",
       "      <th>31</th>\n",
       "      <td>(32, 32)</td>\n",
       "      <td>49</td>\n",
       "    </tr>\n",
       "    <tr>\n",
       "      <th>32</th>\n",
       "      <td>(33, 33)</td>\n",
       "      <td>3</td>\n",
       "    </tr>\n",
       "    <tr>\n",
       "      <th>33</th>\n",
       "      <td>(34, 34)</td>\n",
       "      <td>716</td>\n",
       "    </tr>\n",
       "    <tr>\n",
       "      <th>34</th>\n",
       "      <td>(35, 35)</td>\n",
       "      <td>3</td>\n",
       "    </tr>\n",
       "    <tr>\n",
       "      <th>35</th>\n",
       "      <td>(36, 36)</td>\n",
       "      <td>19</td>\n",
       "    </tr>\n",
       "    <tr>\n",
       "      <th>36</th>\n",
       "      <td>(37, 37)</td>\n",
       "      <td>163</td>\n",
       "    </tr>\n",
       "    <tr>\n",
       "      <th>37</th>\n",
       "      <td>(38, 38)</td>\n",
       "      <td>137</td>\n",
       "    </tr>\n",
       "    <tr>\n",
       "      <th>38</th>\n",
       "      <td>(39, 39)</td>\n",
       "      <td>34</td>\n",
       "    </tr>\n",
       "    <tr>\n",
       "      <th>39</th>\n",
       "      <td>(40, 40)</td>\n",
       "      <td>1</td>\n",
       "    </tr>\n",
       "    <tr>\n",
       "      <th>40</th>\n",
       "      <td>(41, 41)</td>\n",
       "      <td>684</td>\n",
       "    </tr>\n",
       "    <tr>\n",
       "      <th>41</th>\n",
       "      <td>(42, 42)</td>\n",
       "      <td>170</td>\n",
       "    </tr>\n",
       "    <tr>\n",
       "      <th>42</th>\n",
       "      <td>(43, 43)</td>\n",
       "      <td>31</td>\n",
       "    </tr>\n",
       "    <tr>\n",
       "      <th>43</th>\n",
       "      <td>(44, 44)</td>\n",
       "      <td>1385</td>\n",
       "    </tr>\n",
       "    <tr>\n",
       "      <th>44</th>\n",
       "      <td>(45, 45)</td>\n",
       "      <td>6</td>\n",
       "    </tr>\n",
       "    <tr>\n",
       "      <th>45</th>\n",
       "      <td>(46, 46)</td>\n",
       "      <td>2522</td>\n",
       "    </tr>\n",
       "    <tr>\n",
       "      <th>46</th>\n",
       "      <td>(47, 47)</td>\n",
       "      <td>7</td>\n",
       "    </tr>\n",
       "  </tbody>\n",
       "</table>\n",
       "</div>"
      ],
      "text/plain": [
       "     country    sale\n",
       "0     (1, 1)       3\n",
       "1     (2, 2)      58\n",
       "2     (3, 3)     256\n",
       "3     (4, 4)       1\n",
       "4     (5, 5)       4\n",
       "5     (6, 6)       5\n",
       "6     (7, 7)       9\n",
       "7     (8, 8)       1\n",
       "8     (9, 9)   18003\n",
       "9   (10, 10)     152\n",
       "10  (11, 11)     115\n",
       "11  (12, 12)     210\n",
       "12  (13, 13)       2\n",
       "13  (14, 14)      43\n",
       "14  (15, 15)     125\n",
       "15  (16, 16)     834\n",
       "16  (17, 17)      23\n",
       "17  (18, 18)      18\n",
       "18  (19, 19)      29\n",
       "19  (20, 20)      10\n",
       "20  (21, 21)     811\n",
       "21  (22, 22)     144\n",
       "22  (23, 23)      46\n",
       "23  (24, 24)    4091\n",
       "24  (25, 25)      71\n",
       "25  (26, 26)       2\n",
       "26  (27, 27)     227\n",
       "27  (28, 28)     139\n",
       "28  (29, 29)  133963\n",
       "29  (30, 30)       5\n",
       "30  (31, 31)     144\n",
       "31  (32, 32)      49\n",
       "32  (33, 33)       3\n",
       "33  (34, 34)     716\n",
       "34  (35, 35)       3\n",
       "35  (36, 36)      19\n",
       "36  (37, 37)     163\n",
       "37  (38, 38)     137\n",
       "38  (39, 39)      34\n",
       "39  (40, 40)       1\n",
       "40  (41, 41)     684\n",
       "41  (42, 42)     170\n",
       "42  (43, 43)      31\n",
       "43  (44, 44)    1385\n",
       "44  (45, 45)       6\n",
       "45  (46, 46)    2522\n",
       "46  (47, 47)       7"
      ]
     },
     "execution_count": 131,
     "metadata": {},
     "output_type": "execute_result"
    }
   ],
   "source": [
    "df_country"
   ]
  },
  {
   "cell_type": "code",
   "execution_count": 132,
   "id": "be7169d8",
   "metadata": {},
   "outputs": [
    {
     "data": {
      "text/plain": [
       "Index(['country', 'sale'], dtype='object')"
      ]
     },
     "execution_count": 132,
     "metadata": {},
     "output_type": "execute_result"
    }
   ],
   "source": [
    "df_country.columns"
   ]
  },
  {
   "cell_type": "code",
   "execution_count": 133,
   "id": "aa628ab9",
   "metadata": {},
   "outputs": [],
   "source": [
    "#Para ello, creamos un dataset que atribuya las categorías a los valores según si son \n",
    "#\"más de 1000 ventas\", \"entre 50 y 1000 ventas\", \"menos de 50 ventas\"\n",
    "\n",
    "#Creamos una nueva variable con estas tres categorías\n",
    "df_country['level_sale'] = pd.cut(df_country.sale,bins=[0,50,1000,10000000],labels=[\"baja\", \"media\",\"alta\"])"
   ]
  },
  {
   "cell_type": "code",
   "execution_count": 134,
   "id": "d43ce8e1",
   "metadata": {},
   "outputs": [
    {
     "data": {
      "text/html": [
       "<div>\n",
       "<style scoped>\n",
       "    .dataframe tbody tr th:only-of-type {\n",
       "        vertical-align: middle;\n",
       "    }\n",
       "\n",
       "    .dataframe tbody tr th {\n",
       "        vertical-align: top;\n",
       "    }\n",
       "\n",
       "    .dataframe thead th {\n",
       "        text-align: right;\n",
       "    }\n",
       "</style>\n",
       "<table border=\"1\" class=\"dataframe\">\n",
       "  <thead>\n",
       "    <tr style=\"text-align: right;\">\n",
       "      <th></th>\n",
       "      <th>country</th>\n",
       "      <th>sale</th>\n",
       "      <th>level_sale</th>\n",
       "    </tr>\n",
       "  </thead>\n",
       "  <tbody>\n",
       "    <tr>\n",
       "      <th>0</th>\n",
       "      <td>(1, 1)</td>\n",
       "      <td>3</td>\n",
       "      <td>baja</td>\n",
       "    </tr>\n",
       "    <tr>\n",
       "      <th>1</th>\n",
       "      <td>(2, 2)</td>\n",
       "      <td>58</td>\n",
       "      <td>media</td>\n",
       "    </tr>\n",
       "    <tr>\n",
       "      <th>2</th>\n",
       "      <td>(3, 3)</td>\n",
       "      <td>256</td>\n",
       "      <td>media</td>\n",
       "    </tr>\n",
       "    <tr>\n",
       "      <th>3</th>\n",
       "      <td>(4, 4)</td>\n",
       "      <td>1</td>\n",
       "      <td>baja</td>\n",
       "    </tr>\n",
       "    <tr>\n",
       "      <th>4</th>\n",
       "      <td>(5, 5)</td>\n",
       "      <td>4</td>\n",
       "      <td>baja</td>\n",
       "    </tr>\n",
       "    <tr>\n",
       "      <th>5</th>\n",
       "      <td>(6, 6)</td>\n",
       "      <td>5</td>\n",
       "      <td>baja</td>\n",
       "    </tr>\n",
       "    <tr>\n",
       "      <th>6</th>\n",
       "      <td>(7, 7)</td>\n",
       "      <td>9</td>\n",
       "      <td>baja</td>\n",
       "    </tr>\n",
       "    <tr>\n",
       "      <th>7</th>\n",
       "      <td>(8, 8)</td>\n",
       "      <td>1</td>\n",
       "      <td>baja</td>\n",
       "    </tr>\n",
       "    <tr>\n",
       "      <th>8</th>\n",
       "      <td>(9, 9)</td>\n",
       "      <td>18003</td>\n",
       "      <td>alta</td>\n",
       "    </tr>\n",
       "    <tr>\n",
       "      <th>9</th>\n",
       "      <td>(10, 10)</td>\n",
       "      <td>152</td>\n",
       "      <td>media</td>\n",
       "    </tr>\n",
       "    <tr>\n",
       "      <th>10</th>\n",
       "      <td>(11, 11)</td>\n",
       "      <td>115</td>\n",
       "      <td>media</td>\n",
       "    </tr>\n",
       "    <tr>\n",
       "      <th>11</th>\n",
       "      <td>(12, 12)</td>\n",
       "      <td>210</td>\n",
       "      <td>media</td>\n",
       "    </tr>\n",
       "    <tr>\n",
       "      <th>12</th>\n",
       "      <td>(13, 13)</td>\n",
       "      <td>2</td>\n",
       "      <td>baja</td>\n",
       "    </tr>\n",
       "    <tr>\n",
       "      <th>13</th>\n",
       "      <td>(14, 14)</td>\n",
       "      <td>43</td>\n",
       "      <td>baja</td>\n",
       "    </tr>\n",
       "    <tr>\n",
       "      <th>14</th>\n",
       "      <td>(15, 15)</td>\n",
       "      <td>125</td>\n",
       "      <td>media</td>\n",
       "    </tr>\n",
       "    <tr>\n",
       "      <th>15</th>\n",
       "      <td>(16, 16)</td>\n",
       "      <td>834</td>\n",
       "      <td>media</td>\n",
       "    </tr>\n",
       "    <tr>\n",
       "      <th>16</th>\n",
       "      <td>(17, 17)</td>\n",
       "      <td>23</td>\n",
       "      <td>baja</td>\n",
       "    </tr>\n",
       "    <tr>\n",
       "      <th>17</th>\n",
       "      <td>(18, 18)</td>\n",
       "      <td>18</td>\n",
       "      <td>baja</td>\n",
       "    </tr>\n",
       "    <tr>\n",
       "      <th>18</th>\n",
       "      <td>(19, 19)</td>\n",
       "      <td>29</td>\n",
       "      <td>baja</td>\n",
       "    </tr>\n",
       "    <tr>\n",
       "      <th>19</th>\n",
       "      <td>(20, 20)</td>\n",
       "      <td>10</td>\n",
       "      <td>baja</td>\n",
       "    </tr>\n",
       "    <tr>\n",
       "      <th>20</th>\n",
       "      <td>(21, 21)</td>\n",
       "      <td>811</td>\n",
       "      <td>media</td>\n",
       "    </tr>\n",
       "    <tr>\n",
       "      <th>21</th>\n",
       "      <td>(22, 22)</td>\n",
       "      <td>144</td>\n",
       "      <td>media</td>\n",
       "    </tr>\n",
       "    <tr>\n",
       "      <th>22</th>\n",
       "      <td>(23, 23)</td>\n",
       "      <td>46</td>\n",
       "      <td>baja</td>\n",
       "    </tr>\n",
       "    <tr>\n",
       "      <th>23</th>\n",
       "      <td>(24, 24)</td>\n",
       "      <td>4091</td>\n",
       "      <td>alta</td>\n",
       "    </tr>\n",
       "    <tr>\n",
       "      <th>24</th>\n",
       "      <td>(25, 25)</td>\n",
       "      <td>71</td>\n",
       "      <td>media</td>\n",
       "    </tr>\n",
       "    <tr>\n",
       "      <th>25</th>\n",
       "      <td>(26, 26)</td>\n",
       "      <td>2</td>\n",
       "      <td>baja</td>\n",
       "    </tr>\n",
       "    <tr>\n",
       "      <th>26</th>\n",
       "      <td>(27, 27)</td>\n",
       "      <td>227</td>\n",
       "      <td>media</td>\n",
       "    </tr>\n",
       "    <tr>\n",
       "      <th>27</th>\n",
       "      <td>(28, 28)</td>\n",
       "      <td>139</td>\n",
       "      <td>media</td>\n",
       "    </tr>\n",
       "    <tr>\n",
       "      <th>28</th>\n",
       "      <td>(29, 29)</td>\n",
       "      <td>133963</td>\n",
       "      <td>alta</td>\n",
       "    </tr>\n",
       "    <tr>\n",
       "      <th>29</th>\n",
       "      <td>(30, 30)</td>\n",
       "      <td>5</td>\n",
       "      <td>baja</td>\n",
       "    </tr>\n",
       "    <tr>\n",
       "      <th>30</th>\n",
       "      <td>(31, 31)</td>\n",
       "      <td>144</td>\n",
       "      <td>media</td>\n",
       "    </tr>\n",
       "    <tr>\n",
       "      <th>31</th>\n",
       "      <td>(32, 32)</td>\n",
       "      <td>49</td>\n",
       "      <td>baja</td>\n",
       "    </tr>\n",
       "    <tr>\n",
       "      <th>32</th>\n",
       "      <td>(33, 33)</td>\n",
       "      <td>3</td>\n",
       "      <td>baja</td>\n",
       "    </tr>\n",
       "    <tr>\n",
       "      <th>33</th>\n",
       "      <td>(34, 34)</td>\n",
       "      <td>716</td>\n",
       "      <td>media</td>\n",
       "    </tr>\n",
       "    <tr>\n",
       "      <th>34</th>\n",
       "      <td>(35, 35)</td>\n",
       "      <td>3</td>\n",
       "      <td>baja</td>\n",
       "    </tr>\n",
       "    <tr>\n",
       "      <th>35</th>\n",
       "      <td>(36, 36)</td>\n",
       "      <td>19</td>\n",
       "      <td>baja</td>\n",
       "    </tr>\n",
       "    <tr>\n",
       "      <th>36</th>\n",
       "      <td>(37, 37)</td>\n",
       "      <td>163</td>\n",
       "      <td>media</td>\n",
       "    </tr>\n",
       "    <tr>\n",
       "      <th>37</th>\n",
       "      <td>(38, 38)</td>\n",
       "      <td>137</td>\n",
       "      <td>media</td>\n",
       "    </tr>\n",
       "    <tr>\n",
       "      <th>38</th>\n",
       "      <td>(39, 39)</td>\n",
       "      <td>34</td>\n",
       "      <td>baja</td>\n",
       "    </tr>\n",
       "    <tr>\n",
       "      <th>39</th>\n",
       "      <td>(40, 40)</td>\n",
       "      <td>1</td>\n",
       "      <td>baja</td>\n",
       "    </tr>\n",
       "    <tr>\n",
       "      <th>40</th>\n",
       "      <td>(41, 41)</td>\n",
       "      <td>684</td>\n",
       "      <td>media</td>\n",
       "    </tr>\n",
       "    <tr>\n",
       "      <th>41</th>\n",
       "      <td>(42, 42)</td>\n",
       "      <td>170</td>\n",
       "      <td>media</td>\n",
       "    </tr>\n",
       "    <tr>\n",
       "      <th>42</th>\n",
       "      <td>(43, 43)</td>\n",
       "      <td>31</td>\n",
       "      <td>baja</td>\n",
       "    </tr>\n",
       "    <tr>\n",
       "      <th>43</th>\n",
       "      <td>(44, 44)</td>\n",
       "      <td>1385</td>\n",
       "      <td>alta</td>\n",
       "    </tr>\n",
       "    <tr>\n",
       "      <th>44</th>\n",
       "      <td>(45, 45)</td>\n",
       "      <td>6</td>\n",
       "      <td>baja</td>\n",
       "    </tr>\n",
       "    <tr>\n",
       "      <th>45</th>\n",
       "      <td>(46, 46)</td>\n",
       "      <td>2522</td>\n",
       "      <td>alta</td>\n",
       "    </tr>\n",
       "    <tr>\n",
       "      <th>46</th>\n",
       "      <td>(47, 47)</td>\n",
       "      <td>7</td>\n",
       "      <td>baja</td>\n",
       "    </tr>\n",
       "  </tbody>\n",
       "</table>\n",
       "</div>"
      ],
      "text/plain": [
       "     country    sale level_sale\n",
       "0     (1, 1)       3       baja\n",
       "1     (2, 2)      58      media\n",
       "2     (3, 3)     256      media\n",
       "3     (4, 4)       1       baja\n",
       "4     (5, 5)       4       baja\n",
       "5     (6, 6)       5       baja\n",
       "6     (7, 7)       9       baja\n",
       "7     (8, 8)       1       baja\n",
       "8     (9, 9)   18003       alta\n",
       "9   (10, 10)     152      media\n",
       "10  (11, 11)     115      media\n",
       "11  (12, 12)     210      media\n",
       "12  (13, 13)       2       baja\n",
       "13  (14, 14)      43       baja\n",
       "14  (15, 15)     125      media\n",
       "15  (16, 16)     834      media\n",
       "16  (17, 17)      23       baja\n",
       "17  (18, 18)      18       baja\n",
       "18  (19, 19)      29       baja\n",
       "19  (20, 20)      10       baja\n",
       "20  (21, 21)     811      media\n",
       "21  (22, 22)     144      media\n",
       "22  (23, 23)      46       baja\n",
       "23  (24, 24)    4091       alta\n",
       "24  (25, 25)      71      media\n",
       "25  (26, 26)       2       baja\n",
       "26  (27, 27)     227      media\n",
       "27  (28, 28)     139      media\n",
       "28  (29, 29)  133963       alta\n",
       "29  (30, 30)       5       baja\n",
       "30  (31, 31)     144      media\n",
       "31  (32, 32)      49       baja\n",
       "32  (33, 33)       3       baja\n",
       "33  (34, 34)     716      media\n",
       "34  (35, 35)       3       baja\n",
       "35  (36, 36)      19       baja\n",
       "36  (37, 37)     163      media\n",
       "37  (38, 38)     137      media\n",
       "38  (39, 39)      34       baja\n",
       "39  (40, 40)       1       baja\n",
       "40  (41, 41)     684      media\n",
       "41  (42, 42)     170      media\n",
       "42  (43, 43)      31       baja\n",
       "43  (44, 44)    1385       alta\n",
       "44  (45, 45)       6       baja\n",
       "45  (46, 46)    2522       alta\n",
       "46  (47, 47)       7       baja"
      ]
     },
     "execution_count": 134,
     "metadata": {},
     "output_type": "execute_result"
    }
   ],
   "source": [
    "df_country"
   ]
  },
  {
   "cell_type": "code",
   "execution_count": 135,
   "id": "176638c1",
   "metadata": {},
   "outputs": [
    {
     "data": {
      "text/plain": [
       "level_sale       \n",
       "baja        baja     24\n",
       "            media     0\n",
       "            alta      0\n",
       "media       media    18\n",
       "            baja      0\n",
       "            alta      0\n",
       "alta        alta      5\n",
       "            baja      0\n",
       "            media     0\n",
       "Name: level_sale, dtype: int64"
      ]
     },
     "execution_count": 135,
     "metadata": {},
     "output_type": "execute_result"
    }
   ],
   "source": [
    "df_country.groupby('level_sale')['level_sale'].value_counts()"
   ]
  },
  {
   "cell_type": "code",
   "execution_count": 136,
   "id": "e4e7c3ee",
   "metadata": {},
   "outputs": [
    {
     "data": {
      "text/plain": [
       "<AxesSubplot:xlabel='level_sale', ylabel='Count'>"
      ]
     },
     "execution_count": 136,
     "metadata": {},
     "output_type": "execute_result"
    },
    {
     "data": {
      "image/png": "[encoded data removed]",
      "text/plain": [
       "<Figure size 640x480 with 1 Axes>"
      ]
     },
     "metadata": {},
     "output_type": "display_data"
    }
   ],
   "source": [
    "sns.histplot(data=df_country, x='level_sale', kde=True, bins=30)"
   ]
  },
  {
   "cell_type": "markdown",
   "id": "638e2e4d",
   "metadata": {},
   "source": [
    "- Podemos apreciar que tan solo 5 países tienen ventas mayores a 1000 productos en el tiempo analizado\n",
    "- La mayoría de los países (un total de 24) han vendido menos de 50 productos\n",
    "- 18 países han vendido entre 50 y 1000 productos\n",
    "\n",
    "Esto es especialmente relevante a la hora de lanzar campañas publicitarias, por ejemplo, de captación de nuevos clientes. Sin embarbo, debemos tener en cuenta que esta base de datos solo tiene en cuenta desde abril a agosto de 2008. Por ende, deberíamos tener datos históricos para sacar conclusiones precisas. Puede que la compra varíe mucho en un país en diferentes épocas del año, sobre todo considerando que se trata de una tienda de ropa y que puede haber mayores variacones de clima y comportamientos de compra en diferentes países. \n",
    "Viendo la gráfica anterior las recomendaciones a priori para el enfoque del marketing serían las siguientes: \n",
    "- Centrar las campañas publicitarias en los 5 países con mayores ventas (sobre todo en Polonia)\n",
    "- Investigar las necesidades y demanda en los países con venta media, por qué no se están vendiendo más (cuestión de tiempo, página web, falta de inversión en campañas...) Quizás el producto, la web o el packaging no están adaptados a la cultura del país. Por ende, si se encuentra un importante hueco de mercado en algún país podríamos plantearnos la adaptación de la web y productos para ese país en concreto. \n",
    "- Para aquellas con venta baja (menos de 50 productos), dejar que las compras sigan las demandas de mercado. Para un uso efectivo del presupuesto nos centraremos en países con ventas altas y medias y una vez asentadas haríamos investigaciones de mercado en otros países para encontrar huecos y aumentar las venas. "
   ]
  },
  {
   "cell_type": "code",
   "execution_count": 142,
   "id": "191f9539",
   "metadata": {},
   "outputs": [],
   "source": [
    "#Vamos a analizar los cinco países con mayores ventas (Polonia, Republica Checa, Lithuania, .net y .com)\n",
    " #Primero creo una nueva tabla con estos países\n",
    "\n",
    "top5countries = df[(df[\"country\"] == 9) | (df[\"country\"] == 24) | (df[\"country\"] == 29) | (df[\"country\"] == 44) | (df[\"country\"] == 46)]"
   ]
  },
  {
   "cell_type": "code",
   "execution_count": 143,
   "id": "78ad226d",
   "metadata": {},
   "outputs": [
    {
     "data": {
      "text/html": [
       "<div>\n",
       "<style scoped>\n",
       "    .dataframe tbody tr th:only-of-type {\n",
       "        vertical-align: middle;\n",
       "    }\n",
       "\n",
       "    .dataframe tbody tr th {\n",
       "        vertical-align: top;\n",
       "    }\n",
       "\n",
       "    .dataframe thead th {\n",
       "        text-align: right;\n",
       "    }\n",
       "</style>\n",
       "<table border=\"1\" class=\"dataframe\">\n",
       "  <thead>\n",
       "    <tr style=\"text-align: right;\">\n",
       "      <th></th>\n",
       "      <th>year</th>\n",
       "      <th>month</th>\n",
       "      <th>day</th>\n",
       "      <th>clics</th>\n",
       "      <th>country</th>\n",
       "      <th>session_ID</th>\n",
       "      <th>category</th>\n",
       "      <th>clothing_code</th>\n",
       "      <th>colour</th>\n",
       "      <th>location</th>\n",
       "      <th>model_photography</th>\n",
       "      <th>price</th>\n",
       "      <th>overpriced</th>\n",
       "      <th>page</th>\n",
       "      <th>date</th>\n",
       "    </tr>\n",
       "  </thead>\n",
       "  <tbody>\n",
       "    <tr>\n",
       "      <th>0</th>\n",
       "      <td>2008</td>\n",
       "      <td>4</td>\n",
       "      <td>1</td>\n",
       "      <td>1</td>\n",
       "      <td>29</td>\n",
       "      <td>1</td>\n",
       "      <td>1</td>\n",
       "      <td>A13</td>\n",
       "      <td>1</td>\n",
       "      <td>5</td>\n",
       "      <td>1</td>\n",
       "      <td>28</td>\n",
       "      <td>2</td>\n",
       "      <td>1</td>\n",
       "      <td>2008-04-01</td>\n",
       "    </tr>\n",
       "    <tr>\n",
       "      <th>1</th>\n",
       "      <td>2008</td>\n",
       "      <td>4</td>\n",
       "      <td>1</td>\n",
       "      <td>2</td>\n",
       "      <td>29</td>\n",
       "      <td>1</td>\n",
       "      <td>1</td>\n",
       "      <td>A16</td>\n",
       "      <td>1</td>\n",
       "      <td>6</td>\n",
       "      <td>1</td>\n",
       "      <td>33</td>\n",
       "      <td>2</td>\n",
       "      <td>1</td>\n",
       "      <td>2008-04-01</td>\n",
       "    </tr>\n",
       "    <tr>\n",
       "      <th>2</th>\n",
       "      <td>2008</td>\n",
       "      <td>4</td>\n",
       "      <td>1</td>\n",
       "      <td>3</td>\n",
       "      <td>29</td>\n",
       "      <td>1</td>\n",
       "      <td>2</td>\n",
       "      <td>B4</td>\n",
       "      <td>10</td>\n",
       "      <td>2</td>\n",
       "      <td>1</td>\n",
       "      <td>52</td>\n",
       "      <td>1</td>\n",
       "      <td>1</td>\n",
       "      <td>2008-04-01</td>\n",
       "    </tr>\n",
       "    <tr>\n",
       "      <th>3</th>\n",
       "      <td>2008</td>\n",
       "      <td>4</td>\n",
       "      <td>1</td>\n",
       "      <td>4</td>\n",
       "      <td>29</td>\n",
       "      <td>1</td>\n",
       "      <td>2</td>\n",
       "      <td>B17</td>\n",
       "      <td>6</td>\n",
       "      <td>6</td>\n",
       "      <td>2</td>\n",
       "      <td>38</td>\n",
       "      <td>2</td>\n",
       "      <td>1</td>\n",
       "      <td>2008-04-01</td>\n",
       "    </tr>\n",
       "    <tr>\n",
       "      <th>4</th>\n",
       "      <td>2008</td>\n",
       "      <td>4</td>\n",
       "      <td>1</td>\n",
       "      <td>5</td>\n",
       "      <td>29</td>\n",
       "      <td>1</td>\n",
       "      <td>2</td>\n",
       "      <td>B8</td>\n",
       "      <td>4</td>\n",
       "      <td>3</td>\n",
       "      <td>2</td>\n",
       "      <td>52</td>\n",
       "      <td>1</td>\n",
       "      <td>1</td>\n",
       "      <td>2008-04-01</td>\n",
       "    </tr>\n",
       "  </tbody>\n",
       "</table>\n",
       "</div>"
      ],
      "text/plain": [
       "   year  month  day  clics  country  session_ID  category clothing_code  \\\n",
       "0  2008      4    1      1       29           1         1           A13   \n",
       "1  2008      4    1      2       29           1         1           A16   \n",
       "2  2008      4    1      3       29           1         2            B4   \n",
       "3  2008      4    1      4       29           1         2           B17   \n",
       "4  2008      4    1      5       29           1         2            B8   \n",
       "\n",
       "   colour  location  model_photography  price  overpriced  page       date  \n",
       "0       1         5                  1     28           2     1 2008-04-01  \n",
       "1       1         6                  1     33           2     1 2008-04-01  \n",
       "2      10         2                  1     52           1     1 2008-04-01  \n",
       "3       6         6                  2     38           2     1 2008-04-01  \n",
       "4       4         3                  2     52           1     1 2008-04-01  "
      ]
     },
     "execution_count": 143,
     "metadata": {},
     "output_type": "execute_result"
    }
   ],
   "source": [
    "top5countries.head(5)"
   ]
  },
  {
   "cell_type": "code",
   "execution_count": 140,
   "id": "db426553",
   "metadata": {},
   "outputs": [
    {
     "data": {
      "text/plain": [
       "country  country\n",
       "9        9           18003\n",
       "24       24           4091\n",
       "29       29         133963\n",
       "44       44           1385\n",
       "46       46           2522\n",
       "Name: country, dtype: int64"
      ]
     },
     "execution_count": 140,
     "metadata": {},
     "output_type": "execute_result"
    }
   ],
   "source": [
    "top5countries.groupby('country')['country'].value_counts()"
   ]
  },
  {
   "cell_type": "code",
   "execution_count": 152,
   "id": "286d7289",
   "metadata": {},
   "outputs": [
    {
     "data": {
      "text/plain": [
       "country  category  country\n",
       "9        1         9           8262\n",
       "         2         9           4103\n",
       "         3         9           5531\n",
       "         4         9            107\n",
       "24       1         24          1352\n",
       "         2         24           885\n",
       "         3         24           997\n",
       "         4         24           857\n",
       "29       1         29         37145\n",
       "         2         29         31123\n",
       "         3         29         29611\n",
       "         4         29         36084\n",
       "44       1         44           453\n",
       "         2         44           332\n",
       "         3         44           349\n",
       "         4         44           251\n",
       "46       1         46           869\n",
       "         2         46           709\n",
       "         3         46           615\n",
       "         4         46           329\n",
       "Name: country, dtype: int64"
      ]
     },
     "execution_count": 152,
     "metadata": {},
     "output_type": "execute_result"
    }
   ],
   "source": [
    "top5countries.groupby(['country','category'])['country'].value_counts()"
   ]
  },
  {
   "cell_type": "code",
   "execution_count": 159,
   "id": "ceebca77",
   "metadata": {},
   "outputs": [
    {
     "data": {
      "text/plain": [
       "<AxesSubplot:xlabel='country', ylabel='Count'>"
      ]
     },
     "execution_count": 159,
     "metadata": {},
     "output_type": "execute_result"
    },
    {
     "data": {
      "image/png": "[encoded data removed]",
      "text/plain": [
       "<Figure size 640x480 with 1 Axes>"
      ]
     },
     "metadata": {},
     "output_type": "display_data"
    }
   ],
   "source": [
    "sns.histplot(data=top5countries, x='country',hue='category')\n",
    "#Existe una gran diferencia en las ventas del país 20, Polonia, donde se venden mayoritariamente pantalones y productos en rebaja\n",
    "#A continuación, el país 9, República Checa también se venden más pantalones y luego blusas"
   ]
  },
  {
   "cell_type": "markdown",
   "id": "e0726cb8",
   "metadata": {},
   "source": [
    "Teniendo en cuenta esta gran diferencia, posteriormente nos centraremos en las ventas de Polonia y haremos un análisis profundo del país y su comportamiento con las distintas variables"
   ]
  },
  {
   "cell_type": "markdown",
   "id": "aee57218",
   "metadata": {},
   "source": [
    "### Usuario ID"
   ]
  },
  {
   "cell_type": "code",
   "execution_count": 160,
   "id": "b08288eb",
   "metadata": {},
   "outputs": [
    {
     "data": {
      "text/plain": [
       "24026"
      ]
     },
     "execution_count": 160,
     "metadata": {},
     "output_type": "execute_result"
    }
   ],
   "source": [
    "df.session_ID.nunique()\n",
    "#Hay 24026 usuarios diferentes"
   ]
  },
  {
   "cell_type": "code",
   "execution_count": 167,
   "id": "f8a9568f",
   "metadata": {},
   "outputs": [
    {
     "data": {
      "text/plain": [
       "<AxesSubplot:xlabel='session_ID', ylabel='Count'>"
      ]
     },
     "execution_count": 167,
     "metadata": {},
     "output_type": "execute_result"
    },
    {
     "data": {
      "image/png": "[encoded data removed]",
      "text/plain": [
       "<Figure size 640x480 with 1 Axes>"
      ]
     },
     "metadata": {},
     "output_type": "display_data"
    }
   ],
   "source": [
    "sns.histplot(data=df, x='session_ID', kde=True, palette=\"Blues\", bins=2400)\n",
    "#Esto resulta muy interesante ya que nos desvela que casi todos los usuarios han comprado más de 25 productos\n",
    "#Hay uno de los usuarios que ha comprado más de 250 productos\n",
    "#Hay bastantes usuarios que podríamos considerar como vip pues han comprado más de 100 productos en los 4 meses\n",
    "#Tendríamos que analizar si son particulares o empresas\n"
   ]
  },
  {
   "cell_type": "code",
   "execution_count": 169,
   "id": "7232b815",
   "metadata": {},
   "outputs": [
    {
     "data": {
      "text/plain": [
       "session_ID  session_ID\n",
       "1           1              9\n",
       "2           2             10\n",
       "3           3              6\n",
       "4           4              4\n",
       "5           5              1\n",
       "                          ..\n",
       "24022       24022          3\n",
       "24023       24023          7\n",
       "24024       24024          1\n",
       "24025       24025          1\n",
       "24026       24026          3\n",
       "Name: session_ID, Length: 24026, dtype: int64"
      ]
     },
     "execution_count": 169,
     "metadata": {},
     "output_type": "execute_result"
    }
   ],
   "source": [
    "ID = df.groupby('session_ID')['session_ID'].value_counts()\n",
    "ID"
   ]
  },
  {
   "cell_type": "code",
   "execution_count": 188,
   "id": "c4dfc4f9",
   "metadata": {},
   "outputs": [],
   "source": [
    "ID1 = pd.DataFrame(data=ID.index, columns=['session_ID'])\n",
    "ID2 = pd.DataFrame(data=ID.values, columns=['count'])\n",
    "IDcount = pd.merge(ID1, ID2, left_index=True, right_index=True)"
   ]
  },
  {
   "cell_type": "code",
   "execution_count": 189,
   "id": "d57d769f",
   "metadata": {},
   "outputs": [
    {
     "data": {
      "text/html": [
       "<div>\n",
       "<style scoped>\n",
       "    .dataframe tbody tr th:only-of-type {\n",
       "        vertical-align: middle;\n",
       "    }\n",
       "\n",
       "    .dataframe tbody tr th {\n",
       "        vertical-align: top;\n",
       "    }\n",
       "\n",
       "    .dataframe thead th {\n",
       "        text-align: right;\n",
       "    }\n",
       "</style>\n",
       "<table border=\"1\" class=\"dataframe\">\n",
       "  <thead>\n",
       "    <tr style=\"text-align: right;\">\n",
       "      <th></th>\n",
       "      <th>session_ID</th>\n",
       "      <th>count</th>\n",
       "    </tr>\n",
       "  </thead>\n",
       "  <tbody>\n",
       "    <tr>\n",
       "      <th>0</th>\n",
       "      <td>(1, 1)</td>\n",
       "      <td>9</td>\n",
       "    </tr>\n",
       "    <tr>\n",
       "      <th>1</th>\n",
       "      <td>(2, 2)</td>\n",
       "      <td>10</td>\n",
       "    </tr>\n",
       "    <tr>\n",
       "      <th>2</th>\n",
       "      <td>(3, 3)</td>\n",
       "      <td>6</td>\n",
       "    </tr>\n",
       "    <tr>\n",
       "      <th>3</th>\n",
       "      <td>(4, 4)</td>\n",
       "      <td>4</td>\n",
       "    </tr>\n",
       "    <tr>\n",
       "      <th>4</th>\n",
       "      <td>(5, 5)</td>\n",
       "      <td>1</td>\n",
       "    </tr>\n",
       "    <tr>\n",
       "      <th>...</th>\n",
       "      <td>...</td>\n",
       "      <td>...</td>\n",
       "    </tr>\n",
       "    <tr>\n",
       "      <th>24021</th>\n",
       "      <td>(24022, 24022)</td>\n",
       "      <td>3</td>\n",
       "    </tr>\n",
       "    <tr>\n",
       "      <th>24022</th>\n",
       "      <td>(24023, 24023)</td>\n",
       "      <td>7</td>\n",
       "    </tr>\n",
       "    <tr>\n",
       "      <th>24023</th>\n",
       "      <td>(24024, 24024)</td>\n",
       "      <td>1</td>\n",
       "    </tr>\n",
       "    <tr>\n",
       "      <th>24024</th>\n",
       "      <td>(24025, 24025)</td>\n",
       "      <td>1</td>\n",
       "    </tr>\n",
       "    <tr>\n",
       "      <th>24025</th>\n",
       "      <td>(24026, 24026)</td>\n",
       "      <td>3</td>\n",
       "    </tr>\n",
       "  </tbody>\n",
       "</table>\n",
       "<p>24026 rows × 2 columns</p>\n",
       "</div>"
      ],
      "text/plain": [
       "           session_ID  count\n",
       "0              (1, 1)      9\n",
       "1              (2, 2)     10\n",
       "2              (3, 3)      6\n",
       "3              (4, 4)      4\n",
       "4              (5, 5)      1\n",
       "...               ...    ...\n",
       "24021  (24022, 24022)      3\n",
       "24022  (24023, 24023)      7\n",
       "24023  (24024, 24024)      1\n",
       "24024  (24025, 24025)      1\n",
       "24025  (24026, 24026)      3\n",
       "\n",
       "[24026 rows x 2 columns]"
      ]
     },
     "execution_count": 189,
     "metadata": {},
     "output_type": "execute_result"
    }
   ],
   "source": [
    "IDcount"
   ]
  },
  {
   "cell_type": "code",
   "execution_count": 173,
   "id": "85bdc672",
   "metadata": {},
   "outputs": [
    {
     "data": {
      "text/html": [
       "<div>\n",
       "<style scoped>\n",
       "    .dataframe tbody tr th:only-of-type {\n",
       "        vertical-align: middle;\n",
       "    }\n",
       "\n",
       "    .dataframe tbody tr th {\n",
       "        vertical-align: top;\n",
       "    }\n",
       "\n",
       "    .dataframe thead th {\n",
       "        text-align: right;\n",
       "    }\n",
       "</style>\n",
       "<table border=\"1\" class=\"dataframe\">\n",
       "  <thead>\n",
       "    <tr style=\"text-align: right;\">\n",
       "      <th></th>\n",
       "      <th>count</th>\n",
       "    </tr>\n",
       "  </thead>\n",
       "  <tbody>\n",
       "    <tr>\n",
       "      <th>count</th>\n",
       "      <td>24026.000000</td>\n",
       "    </tr>\n",
       "    <tr>\n",
       "      <th>mean</th>\n",
       "      <td>6.887289</td>\n",
       "    </tr>\n",
       "    <tr>\n",
       "      <th>std</th>\n",
       "      <td>8.995161</td>\n",
       "    </tr>\n",
       "    <tr>\n",
       "      <th>min</th>\n",
       "      <td>1.000000</td>\n",
       "    </tr>\n",
       "    <tr>\n",
       "      <th>25%</th>\n",
       "      <td>2.000000</td>\n",
       "    </tr>\n",
       "    <tr>\n",
       "      <th>50%</th>\n",
       "      <td>4.000000</td>\n",
       "    </tr>\n",
       "    <tr>\n",
       "      <th>75%</th>\n",
       "      <td>8.000000</td>\n",
       "    </tr>\n",
       "    <tr>\n",
       "      <th>max</th>\n",
       "      <td>195.000000</td>\n",
       "    </tr>\n",
       "  </tbody>\n",
       "</table>\n",
       "</div>"
      ],
      "text/plain": [
       "              count\n",
       "count  24026.000000\n",
       "mean       6.887289\n",
       "std        8.995161\n",
       "min        1.000000\n",
       "25%        2.000000\n",
       "50%        4.000000\n",
       "75%        8.000000\n",
       "max      195.000000"
      ]
     },
     "execution_count": 173,
     "metadata": {},
     "output_type": "execute_result"
    }
   ],
   "source": [
    "IDcount.describe()\n",
    "#La media de compra por usuario es de unos 6.88 productos\n",
    "#El percentil 50 es de 4 productos\n",
    "#El máximo de productos comprados por un usuario es 195\n",
    "#El mínimo 1 producto"
   ]
  },
  {
   "cell_type": "code",
   "execution_count": 176,
   "id": "af2dd290",
   "metadata": {},
   "outputs": [
    {
     "data": {
      "text/plain": [
       "count  count\n",
       "1      1        5042\n",
       "2      2        3320\n",
       "3      3        2620\n",
       "4      4        2037\n",
       "5      5        1597\n",
       "                ... \n",
       "142    142         1\n",
       "161    161         1\n",
       "185    185         1\n",
       "192    192         1\n",
       "195    195         1\n",
       "Name: count, Length: 104, dtype: int64"
      ]
     },
     "execution_count": 176,
     "metadata": {},
     "output_type": "execute_result"
    }
   ],
   "source": [
    "IDnumcompras = IDcount.groupby('count')['count'].value_counts()\n",
    "IDnumcompras"
   ]
  },
  {
   "cell_type": "code",
   "execution_count": 180,
   "id": "f00bd5f2",
   "metadata": {},
   "outputs": [
    {
     "data": {
      "text/plain": [
       "count  count\n",
       "1      1        5042\n",
       "2      2        3320\n",
       "3      3        2620\n",
       "4      4        2037\n",
       "5      5        1597\n",
       "6      6        1398\n",
       "7      7        1117\n",
       "8      8         934\n",
       "9      9         749\n",
       "10     10        648\n",
       "Name: count, dtype: int64"
      ]
     },
     "execution_count": 180,
     "metadata": {},
     "output_type": "execute_result"
    }
   ],
   "source": [
    "IDnumcompras.head(10)\n",
    "#Unas 5042 personas han comprado un solo producto \n",
    "#3320 han comprado 2 productos\n",
    "#2620 personas han comprado 3 productos\n",
    "#2037 personas han comprado 4 productos"
   ]
  },
  {
   "cell_type": "code",
   "execution_count": 190,
   "id": "e406d6dd",
   "metadata": {},
   "outputs": [
    {
     "data": {
      "text/plain": [
       "count  count\n",
       "108    108      1\n",
       "112    112      2\n",
       "120    120      1\n",
       "121    121      1\n",
       "128    128      1\n",
       "142    142      1\n",
       "161    161      1\n",
       "185    185      1\n",
       "192    192      1\n",
       "195    195      1\n",
       "Name: count, dtype: int64"
      ]
     },
     "execution_count": 190,
     "metadata": {},
     "output_type": "execute_result"
    }
   ],
   "source": [
    "IDnumcompras.tail(10)\n",
    "#Asímismo, hay personas que han comprado 195, 192, 185, 161, 142, 128, 121, 120, 112 y 108 productos"
   ]
  },
  {
   "cell_type": "code",
   "execution_count": 191,
   "id": "37bd9d45",
   "metadata": {},
   "outputs": [
    {
     "data": {
      "text/html": [
       "<div>\n",
       "<style scoped>\n",
       "    .dataframe tbody tr th:only-of-type {\n",
       "        vertical-align: middle;\n",
       "    }\n",
       "\n",
       "    .dataframe tbody tr th {\n",
       "        vertical-align: top;\n",
       "    }\n",
       "\n",
       "    .dataframe thead th {\n",
       "        text-align: right;\n",
       "    }\n",
       "</style>\n",
       "<table border=\"1\" class=\"dataframe\">\n",
       "  <thead>\n",
       "    <tr style=\"text-align: right;\">\n",
       "      <th></th>\n",
       "      <th>session_ID</th>\n",
       "      <th>count</th>\n",
       "    </tr>\n",
       "  </thead>\n",
       "  <tbody>\n",
       "    <tr>\n",
       "      <th>0</th>\n",
       "      <td>(1, 1)</td>\n",
       "      <td>9</td>\n",
       "    </tr>\n",
       "    <tr>\n",
       "      <th>1</th>\n",
       "      <td>(2, 2)</td>\n",
       "      <td>10</td>\n",
       "    </tr>\n",
       "    <tr>\n",
       "      <th>2</th>\n",
       "      <td>(3, 3)</td>\n",
       "      <td>6</td>\n",
       "    </tr>\n",
       "    <tr>\n",
       "      <th>3</th>\n",
       "      <td>(4, 4)</td>\n",
       "      <td>4</td>\n",
       "    </tr>\n",
       "    <tr>\n",
       "      <th>4</th>\n",
       "      <td>(5, 5)</td>\n",
       "      <td>1</td>\n",
       "    </tr>\n",
       "    <tr>\n",
       "      <th>...</th>\n",
       "      <td>...</td>\n",
       "      <td>...</td>\n",
       "    </tr>\n",
       "    <tr>\n",
       "      <th>24021</th>\n",
       "      <td>(24022, 24022)</td>\n",
       "      <td>3</td>\n",
       "    </tr>\n",
       "    <tr>\n",
       "      <th>24022</th>\n",
       "      <td>(24023, 24023)</td>\n",
       "      <td>7</td>\n",
       "    </tr>\n",
       "    <tr>\n",
       "      <th>24023</th>\n",
       "      <td>(24024, 24024)</td>\n",
       "      <td>1</td>\n",
       "    </tr>\n",
       "    <tr>\n",
       "      <th>24024</th>\n",
       "      <td>(24025, 24025)</td>\n",
       "      <td>1</td>\n",
       "    </tr>\n",
       "    <tr>\n",
       "      <th>24025</th>\n",
       "      <td>(24026, 24026)</td>\n",
       "      <td>3</td>\n",
       "    </tr>\n",
       "  </tbody>\n",
       "</table>\n",
       "<p>24026 rows × 2 columns</p>\n",
       "</div>"
      ],
      "text/plain": [
       "           session_ID  count\n",
       "0              (1, 1)      9\n",
       "1              (2, 2)     10\n",
       "2              (3, 3)      6\n",
       "3              (4, 4)      4\n",
       "4              (5, 5)      1\n",
       "...               ...    ...\n",
       "24021  (24022, 24022)      3\n",
       "24022  (24023, 24023)      7\n",
       "24023  (24024, 24024)      1\n",
       "24024  (24025, 24025)      1\n",
       "24025  (24026, 24026)      3\n",
       "\n",
       "[24026 rows x 2 columns]"
      ]
     },
     "execution_count": 191,
     "metadata": {},
     "output_type": "execute_result"
    }
   ],
   "source": [
    "IDcount"
   ]
  },
  {
   "cell_type": "code",
   "execution_count": 211,
   "id": "54424a44",
   "metadata": {},
   "outputs": [],
   "source": [
    "IDcompras['nivelcompras'] = pd.cut(IDcount['count'],bins=[0,10,25,50,10000],labels=[\"baja\", \"media\",\"media-alta\",\"alta\"])"
   ]
  },
  {
   "cell_type": "code",
   "execution_count": 216,
   "id": "4b8aa72b",
   "metadata": {},
   "outputs": [
    {
     "data": {
      "text/plain": [
       "0        baja\n",
       "1        baja\n",
       "2        baja\n",
       "3        baja\n",
       "4        baja\n",
       "         ... \n",
       "24021    baja\n",
       "24022    baja\n",
       "24023    baja\n",
       "24024    baja\n",
       "24025    baja\n",
       "Name: count, Length: 24026, dtype: category\n",
       "Categories (4, object): ['baja' < 'media' < 'media-alta' < 'alta']"
      ]
     },
     "execution_count": 216,
     "metadata": {},
     "output_type": "execute_result"
    }
   ],
   "source": [
    "IDcompras['nivelcompras']"
   ]
  },
  {
   "cell_type": "code",
   "execution_count": 217,
   "id": "805984c7",
   "metadata": {},
   "outputs": [
    {
     "data": {
      "text/plain": [
       "count       count\n",
       "baja        baja     19462\n",
       "media       baja      3649\n",
       "media-alta  baja       779\n",
       "alta        media      119\n",
       "            alta        17\n",
       "Name: count, dtype: int64"
      ]
     },
     "execution_count": 217,
     "metadata": {},
     "output_type": "execute_result"
    }
   ],
   "source": [
    "IDcompras.groupby('nivelcompras').value_counts()"
   ]
  },
  {
   "cell_type": "code",
   "execution_count": 215,
   "id": "241b1232",
   "metadata": {},
   "outputs": [
    {
     "data": {
      "text/plain": [
       "<AxesSubplot:xlabel='nivelcompras', ylabel='Count'>"
      ]
     },
     "execution_count": 215,
     "metadata": {},
     "output_type": "execute_result"
    },
    {
     "data": {
      "image/png": "[encoded data removed]",
      "text/plain": [
       "<Figure size 640x480 with 1 Axes>"
      ]
     },
     "metadata": {},
     "output_type": "display_data"
    }
   ],
   "source": [
    "sns.histplot(data=IDcompras, x='nivelcompras', bins=30)"
   ]
  },
  {
   "cell_type": "code",
   "execution_count": 218,
   "id": "6a397570",
   "metadata": {},
   "outputs": [
    {
     "data": {
      "text/plain": [
       "<AxesSubplot:xlabel='count', ylabel='Count'>"
      ]
     },
     "execution_count": 218,
     "metadata": {},
     "output_type": "execute_result"
    },
    {
     "data": {
      "image/png": "[encoded data removed]",
      "text/plain": [
       "<Figure size 640x480 with 1 Axes>"
      ]
     },
     "metadata": {},
     "output_type": "display_data"
    }
   ],
   "source": [
    "sns.histplot(data=IDcount, x='count', kde=True, palette=\"Blues\", bins=200)\n",
    "#Como podemos ver la mayoría de las personas compra de 0 a 25 productos y muy pocas personas compran grandes cantidades"
   ]
  },
  {
   "cell_type": "markdown",
   "id": "a514351d",
   "metadata": {},
   "source": [
    "#### Conclusiones sobre los clientes\n",
    "- La mayoría de los clientes compran menos de 10 productos (19462 clientes)\n",
    "    - De hecho, unas 13019 personas compraron menos de 5 productos\n",
    "- 3649 clientes han comprado entre 10 y 25 productos\n",
    "- 779 clientes han comprado entre 25 y 50 productos\n",
    "- 119 clientes han comprado más de 50 productos\n",
    "\n"
   ]
  },
  {
   "cell_type": "markdown",
   "id": "2488a82c",
   "metadata": {},
   "source": [
    "Vamos a analizar los que fueron recurrentes "
   ]
  },
  {
   "cell_type": "code",
   "execution_count": 291,
   "id": "5c2eab73",
   "metadata": {},
   "outputs": [],
   "source": [
    "import datetime as dt"
   ]
  },
  {
   "cell_type": "code",
   "execution_count": 349,
   "id": "98f2e87e",
   "metadata": {
    "scrolled": true
   },
   "outputs": [],
   "source": [
    "df.drop(columns=['CohortMonth','CohortIndex'], inplace=True)"
   ]
  },
  {
   "cell_type": "code",
   "execution_count": 350,
   "id": "e42ac46d",
   "metadata": {},
   "outputs": [
    {
     "data": {
      "text/html": [
       "<div>\n",
       "<style scoped>\n",
       "    .dataframe tbody tr th:only-of-type {\n",
       "        vertical-align: middle;\n",
       "    }\n",
       "\n",
       "    .dataframe tbody tr th {\n",
       "        vertical-align: top;\n",
       "    }\n",
       "\n",
       "    .dataframe thead th {\n",
       "        text-align: right;\n",
       "    }\n",
       "</style>\n",
       "<table border=\"1\" class=\"dataframe\">\n",
       "  <thead>\n",
       "    <tr style=\"text-align: right;\">\n",
       "      <th></th>\n",
       "      <th>year</th>\n",
       "      <th>month</th>\n",
       "      <th>day</th>\n",
       "      <th>clics</th>\n",
       "      <th>country</th>\n",
       "      <th>session_ID</th>\n",
       "      <th>category</th>\n",
       "      <th>clothing_code</th>\n",
       "      <th>colour</th>\n",
       "      <th>location</th>\n",
       "      <th>model_photography</th>\n",
       "      <th>price</th>\n",
       "      <th>overpriced</th>\n",
       "      <th>page</th>\n",
       "      <th>date</th>\n",
       "    </tr>\n",
       "  </thead>\n",
       "  <tbody>\n",
       "    <tr>\n",
       "      <th>0</th>\n",
       "      <td>2008</td>\n",
       "      <td>4</td>\n",
       "      <td>1</td>\n",
       "      <td>1</td>\n",
       "      <td>29</td>\n",
       "      <td>1</td>\n",
       "      <td>1</td>\n",
       "      <td>A13</td>\n",
       "      <td>1</td>\n",
       "      <td>5</td>\n",
       "      <td>1</td>\n",
       "      <td>28</td>\n",
       "      <td>2</td>\n",
       "      <td>1</td>\n",
       "      <td>2008-04-01</td>\n",
       "    </tr>\n",
       "    <tr>\n",
       "      <th>1</th>\n",
       "      <td>2008</td>\n",
       "      <td>4</td>\n",
       "      <td>1</td>\n",
       "      <td>2</td>\n",
       "      <td>29</td>\n",
       "      <td>1</td>\n",
       "      <td>1</td>\n",
       "      <td>A16</td>\n",
       "      <td>1</td>\n",
       "      <td>6</td>\n",
       "      <td>1</td>\n",
       "      <td>33</td>\n",
       "      <td>2</td>\n",
       "      <td>1</td>\n",
       "      <td>2008-04-01</td>\n",
       "    </tr>\n",
       "    <tr>\n",
       "      <th>2</th>\n",
       "      <td>2008</td>\n",
       "      <td>4</td>\n",
       "      <td>1</td>\n",
       "      <td>3</td>\n",
       "      <td>29</td>\n",
       "      <td>1</td>\n",
       "      <td>2</td>\n",
       "      <td>B4</td>\n",
       "      <td>10</td>\n",
       "      <td>2</td>\n",
       "      <td>1</td>\n",
       "      <td>52</td>\n",
       "      <td>1</td>\n",
       "      <td>1</td>\n",
       "      <td>2008-04-01</td>\n",
       "    </tr>\n",
       "    <tr>\n",
       "      <th>3</th>\n",
       "      <td>2008</td>\n",
       "      <td>4</td>\n",
       "      <td>1</td>\n",
       "      <td>4</td>\n",
       "      <td>29</td>\n",
       "      <td>1</td>\n",
       "      <td>2</td>\n",
       "      <td>B17</td>\n",
       "      <td>6</td>\n",
       "      <td>6</td>\n",
       "      <td>2</td>\n",
       "      <td>38</td>\n",
       "      <td>2</td>\n",
       "      <td>1</td>\n",
       "      <td>2008-04-01</td>\n",
       "    </tr>\n",
       "    <tr>\n",
       "      <th>4</th>\n",
       "      <td>2008</td>\n",
       "      <td>4</td>\n",
       "      <td>1</td>\n",
       "      <td>5</td>\n",
       "      <td>29</td>\n",
       "      <td>1</td>\n",
       "      <td>2</td>\n",
       "      <td>B8</td>\n",
       "      <td>4</td>\n",
       "      <td>3</td>\n",
       "      <td>2</td>\n",
       "      <td>52</td>\n",
       "      <td>1</td>\n",
       "      <td>1</td>\n",
       "      <td>2008-04-01</td>\n",
       "    </tr>\n",
       "  </tbody>\n",
       "</table>\n",
       "</div>"
      ],
      "text/plain": [
       "   year  month  day  clics  country  session_ID  category clothing_code  \\\n",
       "0  2008      4    1      1       29           1         1           A13   \n",
       "1  2008      4    1      2       29           1         1           A16   \n",
       "2  2008      4    1      3       29           1         2            B4   \n",
       "3  2008      4    1      4       29           1         2           B17   \n",
       "4  2008      4    1      5       29           1         2            B8   \n",
       "\n",
       "   colour  location  model_photography  price  overpriced  page       date  \n",
       "0       1         5                  1     28           2     1 2008-04-01  \n",
       "1       1         6                  1     33           2     1 2008-04-01  \n",
       "2      10         2                  1     52           1     1 2008-04-01  \n",
       "3       6         6                  2     38           2     1 2008-04-01  \n",
       "4       4         3                  2     52           1     1 2008-04-01  "
      ]
     },
     "execution_count": 350,
     "metadata": {},
     "output_type": "execute_result"
    }
   ],
   "source": [
    "df.head()"
   ]
  },
  {
   "cell_type": "code",
   "execution_count": 351,
   "id": "16f73cd9",
   "metadata": {},
   "outputs": [
    {
     "data": {
      "text/html": [
       "<div>\n",
       "<style scoped>\n",
       "    .dataframe tbody tr th:only-of-type {\n",
       "        vertical-align: middle;\n",
       "    }\n",
       "\n",
       "    .dataframe tbody tr th {\n",
       "        vertical-align: top;\n",
       "    }\n",
       "\n",
       "    .dataframe thead th {\n",
       "        text-align: right;\n",
       "    }\n",
       "</style>\n",
       "<table border=\"1\" class=\"dataframe\">\n",
       "  <thead>\n",
       "    <tr style=\"text-align: right;\">\n",
       "      <th></th>\n",
       "      <th>year</th>\n",
       "      <th>month</th>\n",
       "      <th>day</th>\n",
       "      <th>clics</th>\n",
       "      <th>country</th>\n",
       "      <th>session_ID</th>\n",
       "      <th>category</th>\n",
       "      <th>clothing_code</th>\n",
       "      <th>colour</th>\n",
       "      <th>location</th>\n",
       "      <th>model_photography</th>\n",
       "      <th>price</th>\n",
       "      <th>overpriced</th>\n",
       "      <th>page</th>\n",
       "      <th>date</th>\n",
       "      <th>InvoiceMonth</th>\n",
       "    </tr>\n",
       "  </thead>\n",
       "  <tbody>\n",
       "    <tr>\n",
       "      <th>0</th>\n",
       "      <td>2008</td>\n",
       "      <td>4</td>\n",
       "      <td>1</td>\n",
       "      <td>1</td>\n",
       "      <td>29</td>\n",
       "      <td>1</td>\n",
       "      <td>1</td>\n",
       "      <td>A13</td>\n",
       "      <td>1</td>\n",
       "      <td>5</td>\n",
       "      <td>1</td>\n",
       "      <td>28</td>\n",
       "      <td>2</td>\n",
       "      <td>1</td>\n",
       "      <td>2008-04-01</td>\n",
       "      <td>2008-04-01</td>\n",
       "    </tr>\n",
       "    <tr>\n",
       "      <th>1</th>\n",
       "      <td>2008</td>\n",
       "      <td>4</td>\n",
       "      <td>1</td>\n",
       "      <td>2</td>\n",
       "      <td>29</td>\n",
       "      <td>1</td>\n",
       "      <td>1</td>\n",
       "      <td>A16</td>\n",
       "      <td>1</td>\n",
       "      <td>6</td>\n",
       "      <td>1</td>\n",
       "      <td>33</td>\n",
       "      <td>2</td>\n",
       "      <td>1</td>\n",
       "      <td>2008-04-01</td>\n",
       "      <td>2008-04-01</td>\n",
       "    </tr>\n",
       "    <tr>\n",
       "      <th>2</th>\n",
       "      <td>2008</td>\n",
       "      <td>4</td>\n",
       "      <td>1</td>\n",
       "      <td>3</td>\n",
       "      <td>29</td>\n",
       "      <td>1</td>\n",
       "      <td>2</td>\n",
       "      <td>B4</td>\n",
       "      <td>10</td>\n",
       "      <td>2</td>\n",
       "      <td>1</td>\n",
       "      <td>52</td>\n",
       "      <td>1</td>\n",
       "      <td>1</td>\n",
       "      <td>2008-04-01</td>\n",
       "      <td>2008-04-01</td>\n",
       "    </tr>\n",
       "    <tr>\n",
       "      <th>3</th>\n",
       "      <td>2008</td>\n",
       "      <td>4</td>\n",
       "      <td>1</td>\n",
       "      <td>4</td>\n",
       "      <td>29</td>\n",
       "      <td>1</td>\n",
       "      <td>2</td>\n",
       "      <td>B17</td>\n",
       "      <td>6</td>\n",
       "      <td>6</td>\n",
       "      <td>2</td>\n",
       "      <td>38</td>\n",
       "      <td>2</td>\n",
       "      <td>1</td>\n",
       "      <td>2008-04-01</td>\n",
       "      <td>2008-04-01</td>\n",
       "    </tr>\n",
       "    <tr>\n",
       "      <th>4</th>\n",
       "      <td>2008</td>\n",
       "      <td>4</td>\n",
       "      <td>1</td>\n",
       "      <td>5</td>\n",
       "      <td>29</td>\n",
       "      <td>1</td>\n",
       "      <td>2</td>\n",
       "      <td>B8</td>\n",
       "      <td>4</td>\n",
       "      <td>3</td>\n",
       "      <td>2</td>\n",
       "      <td>52</td>\n",
       "      <td>1</td>\n",
       "      <td>1</td>\n",
       "      <td>2008-04-01</td>\n",
       "      <td>2008-04-01</td>\n",
       "    </tr>\n",
       "  </tbody>\n",
       "</table>\n",
       "</div>"
      ],
      "text/plain": [
       "   year  month  day  clics  country  session_ID  category clothing_code  \\\n",
       "0  2008      4    1      1       29           1         1           A13   \n",
       "1  2008      4    1      2       29           1         1           A16   \n",
       "2  2008      4    1      3       29           1         2            B4   \n",
       "3  2008      4    1      4       29           1         2           B17   \n",
       "4  2008      4    1      5       29           1         2            B8   \n",
       "\n",
       "   colour  location  model_photography  price  overpriced  page       date  \\\n",
       "0       1         5                  1     28           2     1 2008-04-01   \n",
       "1       1         6                  1     33           2     1 2008-04-01   \n",
       "2      10         2                  1     52           1     1 2008-04-01   \n",
       "3       6         6                  2     38           2     1 2008-04-01   \n",
       "4       4         3                  2     52           1     1 2008-04-01   \n",
       "\n",
       "  InvoiceMonth  \n",
       "0   2008-04-01  \n",
       "1   2008-04-01  \n",
       "2   2008-04-01  \n",
       "3   2008-04-01  \n",
       "4   2008-04-01  "
      ]
     },
     "execution_count": 351,
     "metadata": {},
     "output_type": "execute_result"
    }
   ],
   "source": [
    "def get_month(x):\n",
    "    return dt.datetime(x.year, x.month, 1)\n",
    "df['InvoiceMonth'] = df['date'].apply(get_month)\n",
    "df.head()\n",
    "#El invoice month representa el mes en el que se realizó la compra"
   ]
  },
  {
   "cell_type": "code",
   "execution_count": 354,
   "id": "f0e4303c",
   "metadata": {},
   "outputs": [
    {
     "data": {
      "text/plain": [
       "0        2008-04-01\n",
       "1        2008-04-01\n",
       "2        2008-04-01\n",
       "3        2008-04-01\n",
       "4        2008-04-01\n",
       "            ...    \n",
       "165469   2008-08-01\n",
       "165470   2008-08-01\n",
       "165471   2008-08-01\n",
       "165472   2008-08-01\n",
       "165473   2008-08-01\n",
       "Name: InvoiceMonth, Length: 82725, dtype: datetime64[ns]"
      ]
     },
     "execution_count": 354,
     "metadata": {},
     "output_type": "execute_result"
    }
   ],
   "source": [
    "grouping = df.groupby('session_ID')['InvoiceMonth']\n",
    "grouping.head()\n",
    "#Ahora los agrupamos por sesión y mostramos la fecha de compra \n",
    "#Hay 82,725 valores y 24,026 usuarios por lo que varios han comprado en diferentes meses\n",
    "#Voy a intentar sacar una función que me diga cuantas veces se repite cada valor"
   ]
  },
  {
   "cell_type": "code",
   "execution_count": 367,
   "id": "2e0f35ac",
   "metadata": {},
   "outputs": [],
   "source": [
    "df['CohortMonth'] = grouping.transform('min')\n",
    "#Creo una columna con la fecha mínima en la que el usuario compró"
   ]
  },
  {
   "cell_type": "code",
   "execution_count": 368,
   "id": "939a78e4",
   "metadata": {},
   "outputs": [
    {
     "data": {
      "text/html": [
       "<div>\n",
       "<style scoped>\n",
       "    .dataframe tbody tr th:only-of-type {\n",
       "        vertical-align: middle;\n",
       "    }\n",
       "\n",
       "    .dataframe tbody tr th {\n",
       "        vertical-align: top;\n",
       "    }\n",
       "\n",
       "    .dataframe thead th {\n",
       "        text-align: right;\n",
       "    }\n",
       "</style>\n",
       "<table border=\"1\" class=\"dataframe\">\n",
       "  <thead>\n",
       "    <tr style=\"text-align: right;\">\n",
       "      <th></th>\n",
       "      <th>year</th>\n",
       "      <th>month</th>\n",
       "      <th>day</th>\n",
       "      <th>clics</th>\n",
       "      <th>country</th>\n",
       "      <th>session_ID</th>\n",
       "      <th>category</th>\n",
       "      <th>clothing_code</th>\n",
       "      <th>colour</th>\n",
       "      <th>location</th>\n",
       "      <th>model_photography</th>\n",
       "      <th>price</th>\n",
       "      <th>overpriced</th>\n",
       "      <th>page</th>\n",
       "      <th>date</th>\n",
       "      <th>InvoiceMonth</th>\n",
       "      <th>CohortMonth</th>\n",
       "      <th>CohortIndex</th>\n",
       "    </tr>\n",
       "  </thead>\n",
       "  <tbody>\n",
       "    <tr>\n",
       "      <th>0</th>\n",
       "      <td>2008</td>\n",
       "      <td>4</td>\n",
       "      <td>1</td>\n",
       "      <td>1</td>\n",
       "      <td>29</td>\n",
       "      <td>1</td>\n",
       "      <td>1</td>\n",
       "      <td>A13</td>\n",
       "      <td>1</td>\n",
       "      <td>5</td>\n",
       "      <td>1</td>\n",
       "      <td>28</td>\n",
       "      <td>2</td>\n",
       "      <td>1</td>\n",
       "      <td>2008-04-01</td>\n",
       "      <td>2008-04-01</td>\n",
       "      <td>2008-04-01</td>\n",
       "      <td>1</td>\n",
       "    </tr>\n",
       "    <tr>\n",
       "      <th>1</th>\n",
       "      <td>2008</td>\n",
       "      <td>4</td>\n",
       "      <td>1</td>\n",
       "      <td>2</td>\n",
       "      <td>29</td>\n",
       "      <td>1</td>\n",
       "      <td>1</td>\n",
       "      <td>A16</td>\n",
       "      <td>1</td>\n",
       "      <td>6</td>\n",
       "      <td>1</td>\n",
       "      <td>33</td>\n",
       "      <td>2</td>\n",
       "      <td>1</td>\n",
       "      <td>2008-04-01</td>\n",
       "      <td>2008-04-01</td>\n",
       "      <td>2008-04-01</td>\n",
       "      <td>1</td>\n",
       "    </tr>\n",
       "    <tr>\n",
       "      <th>2</th>\n",
       "      <td>2008</td>\n",
       "      <td>4</td>\n",
       "      <td>1</td>\n",
       "      <td>3</td>\n",
       "      <td>29</td>\n",
       "      <td>1</td>\n",
       "      <td>2</td>\n",
       "      <td>B4</td>\n",
       "      <td>10</td>\n",
       "      <td>2</td>\n",
       "      <td>1</td>\n",
       "      <td>52</td>\n",
       "      <td>1</td>\n",
       "      <td>1</td>\n",
       "      <td>2008-04-01</td>\n",
       "      <td>2008-04-01</td>\n",
       "      <td>2008-04-01</td>\n",
       "      <td>1</td>\n",
       "    </tr>\n",
       "    <tr>\n",
       "      <th>3</th>\n",
       "      <td>2008</td>\n",
       "      <td>4</td>\n",
       "      <td>1</td>\n",
       "      <td>4</td>\n",
       "      <td>29</td>\n",
       "      <td>1</td>\n",
       "      <td>2</td>\n",
       "      <td>B17</td>\n",
       "      <td>6</td>\n",
       "      <td>6</td>\n",
       "      <td>2</td>\n",
       "      <td>38</td>\n",
       "      <td>2</td>\n",
       "      <td>1</td>\n",
       "      <td>2008-04-01</td>\n",
       "      <td>2008-04-01</td>\n",
       "      <td>2008-04-01</td>\n",
       "      <td>1</td>\n",
       "    </tr>\n",
       "    <tr>\n",
       "      <th>4</th>\n",
       "      <td>2008</td>\n",
       "      <td>4</td>\n",
       "      <td>1</td>\n",
       "      <td>5</td>\n",
       "      <td>29</td>\n",
       "      <td>1</td>\n",
       "      <td>2</td>\n",
       "      <td>B8</td>\n",
       "      <td>4</td>\n",
       "      <td>3</td>\n",
       "      <td>2</td>\n",
       "      <td>52</td>\n",
       "      <td>1</td>\n",
       "      <td>1</td>\n",
       "      <td>2008-04-01</td>\n",
       "      <td>2008-04-01</td>\n",
       "      <td>2008-04-01</td>\n",
       "      <td>1</td>\n",
       "    </tr>\n",
       "  </tbody>\n",
       "</table>\n",
       "</div>"
      ],
      "text/plain": [
       "   year  month  day  clics  country  session_ID  category clothing_code  \\\n",
       "0  2008      4    1      1       29           1         1           A13   \n",
       "1  2008      4    1      2       29           1         1           A16   \n",
       "2  2008      4    1      3       29           1         2            B4   \n",
       "3  2008      4    1      4       29           1         2           B17   \n",
       "4  2008      4    1      5       29           1         2            B8   \n",
       "\n",
       "   colour  location  model_photography  price  overpriced  page       date  \\\n",
       "0       1         5                  1     28           2     1 2008-04-01   \n",
       "1       1         6                  1     33           2     1 2008-04-01   \n",
       "2      10         2                  1     52           1     1 2008-04-01   \n",
       "3       6         6                  2     38           2     1 2008-04-01   \n",
       "4       4         3                  2     52           1     1 2008-04-01   \n",
       "\n",
       "  InvoiceMonth CohortMonth  CohortIndex  \n",
       "0   2008-04-01  2008-04-01            1  \n",
       "1   2008-04-01  2008-04-01            1  \n",
       "2   2008-04-01  2008-04-01            1  \n",
       "3   2008-04-01  2008-04-01            1  \n",
       "4   2008-04-01  2008-04-01            1  "
      ]
     },
     "execution_count": 368,
     "metadata": {},
     "output_type": "execute_result"
    }
   ],
   "source": [
    "def get_date_int(df, column):\n",
    "    year = df[column].dt.year\n",
    "    month = df[column].dt.month\n",
    "    date = df[column].dt.date\n",
    "    return year, month, date\n",
    "Invoice_Year, Invoice_Month, _ = get_date_int(df, 'date')\n",
    "Cohort_Year, Cohort_Month , _ = get_date_int(df, 'CohortMonth')\n",
    "Year_Diff = Invoice_Year - Cohort_Year\n",
    "Month_Diff = Invoice_Month - Cohort_Month\n",
    "df['CohortIndex'] = Month_Diff +1\n",
    "df.head()"
   ]
  },
  {
   "cell_type": "code",
   "execution_count": 369,
   "id": "4b3c3748",
   "metadata": {},
   "outputs": [
    {
     "data": {
      "text/plain": [
       "count    165474.0\n",
       "mean          1.0\n",
       "std           0.0\n",
       "min           1.0\n",
       "25%           1.0\n",
       "50%           1.0\n",
       "75%           1.0\n",
       "max           1.0\n",
       "Name: CohortIndex, dtype: float64"
      ]
     },
     "execution_count": 369,
     "metadata": {},
     "output_type": "execute_result"
    }
   ],
   "source": [
    "df.CohortIndex.describe()\n",
    "#Con la función anterior debería poder sacar la diferencia de meses pero sin embargo no funciona\n",
    "#De todas formas, esto no nos diría las veces en las que un usuario repite ni en qué meses\n",
    "#Para ello voy a agrupar directamente por usuario y por mes de compra"
   ]
  },
  {
   "cell_type": "code",
   "execution_count": 469,
   "id": "0702b11d",
   "metadata": {},
   "outputs": [
    {
     "name": "stderr",
     "output_type": "stream",
     "text": [
      "C:\\Users\\Paula Pareja\\AppData\\Local\\Temp\\ipykernel_14480\\828800276.py:1: FutureWarning: Indexing with multiple keys (implicitly converted to a tuple of keys) will be deprecated, use a list instead.\n",
      "  usuarios = df.groupby('session_ID')['session_ID','month']\n"
     ]
    }
   ],
   "source": [
    "usuarios = df.groupby('session_ID')['session_ID','month']"
   ]
  },
  {
   "cell_type": "code",
   "execution_count": 472,
   "id": "d8c03775",
   "metadata": {},
   "outputs": [
    {
     "data": {
      "text/plain": [
       "session_ID  month\n",
       "1           4         9\n",
       "2           4        10\n",
       "3           4         6\n",
       "4           4         4\n",
       "5           4         1\n",
       "                     ..\n",
       "24022       8         3\n",
       "24023       8         7\n",
       "24024       8         1\n",
       "24025       8         1\n",
       "24026       8         3\n",
       "Length: 24026, dtype: int64"
      ]
     },
     "execution_count": 472,
     "metadata": {},
     "output_type": "execute_result"
    }
   ],
   "source": [
    "usuarios.value_counts()"
   ]
  },
  {
   "cell_type": "code",
   "execution_count": null,
   "id": "8a3a052f",
   "metadata": {},
   "outputs": [],
   "source": [
    "#Ahora que tengo el usuario, el mes y el número de veces que aparece ese mes, tengo que analizar cuales de ellos han repetido\n",
    "#NO CONSIGO ANALIZAR LA FRECUENCIA DE COMPRA DEL USUARIO"
   ]
  },
  {
   "cell_type": "code",
   "execution_count": 454,
   "id": "e29bd4c8",
   "metadata": {},
   "outputs": [],
   "source": [
    "dfcomprasmes = df[['session_ID','date','month']]"
   ]
  },
  {
   "cell_type": "code",
   "execution_count": 441,
   "id": "8e0327c3",
   "metadata": {},
   "outputs": [
    {
     "data": {
      "text/html": [
       "<div>\n",
       "<style scoped>\n",
       "    .dataframe tbody tr th:only-of-type {\n",
       "        vertical-align: middle;\n",
       "    }\n",
       "\n",
       "    .dataframe tbody tr th {\n",
       "        vertical-align: top;\n",
       "    }\n",
       "\n",
       "    .dataframe thead th {\n",
       "        text-align: right;\n",
       "    }\n",
       "</style>\n",
       "<table border=\"1\" class=\"dataframe\">\n",
       "  <thead>\n",
       "    <tr style=\"text-align: right;\">\n",
       "      <th></th>\n",
       "      <th>session_ID</th>\n",
       "      <th>date</th>\n",
       "      <th>month</th>\n",
       "    </tr>\n",
       "  </thead>\n",
       "  <tbody>\n",
       "    <tr>\n",
       "      <th>0</th>\n",
       "      <td>1</td>\n",
       "      <td>2008-04-01</td>\n",
       "      <td>4</td>\n",
       "    </tr>\n",
       "    <tr>\n",
       "      <th>1</th>\n",
       "      <td>1</td>\n",
       "      <td>2008-04-01</td>\n",
       "      <td>4</td>\n",
       "    </tr>\n",
       "    <tr>\n",
       "      <th>2</th>\n",
       "      <td>1</td>\n",
       "      <td>2008-04-01</td>\n",
       "      <td>4</td>\n",
       "    </tr>\n",
       "    <tr>\n",
       "      <th>3</th>\n",
       "      <td>1</td>\n",
       "      <td>2008-04-01</td>\n",
       "      <td>4</td>\n",
       "    </tr>\n",
       "    <tr>\n",
       "      <th>4</th>\n",
       "      <td>1</td>\n",
       "      <td>2008-04-01</td>\n",
       "      <td>4</td>\n",
       "    </tr>\n",
       "    <tr>\n",
       "      <th>...</th>\n",
       "      <td>...</td>\n",
       "      <td>...</td>\n",
       "      <td>...</td>\n",
       "    </tr>\n",
       "    <tr>\n",
       "      <th>165469</th>\n",
       "      <td>24024</td>\n",
       "      <td>2008-08-13</td>\n",
       "      <td>8</td>\n",
       "    </tr>\n",
       "    <tr>\n",
       "      <th>165470</th>\n",
       "      <td>24025</td>\n",
       "      <td>2008-08-13</td>\n",
       "      <td>8</td>\n",
       "    </tr>\n",
       "    <tr>\n",
       "      <th>165471</th>\n",
       "      <td>24026</td>\n",
       "      <td>2008-08-13</td>\n",
       "      <td>8</td>\n",
       "    </tr>\n",
       "    <tr>\n",
       "      <th>165472</th>\n",
       "      <td>24026</td>\n",
       "      <td>2008-08-13</td>\n",
       "      <td>8</td>\n",
       "    </tr>\n",
       "    <tr>\n",
       "      <th>165473</th>\n",
       "      <td>24026</td>\n",
       "      <td>2008-08-13</td>\n",
       "      <td>8</td>\n",
       "    </tr>\n",
       "  </tbody>\n",
       "</table>\n",
       "<p>165474 rows × 3 columns</p>\n",
       "</div>"
      ],
      "text/plain": [
       "        session_ID       date  month\n",
       "0                1 2008-04-01      4\n",
       "1                1 2008-04-01      4\n",
       "2                1 2008-04-01      4\n",
       "3                1 2008-04-01      4\n",
       "4                1 2008-04-01      4\n",
       "...            ...        ...    ...\n",
       "165469       24024 2008-08-13      8\n",
       "165470       24025 2008-08-13      8\n",
       "165471       24026 2008-08-13      8\n",
       "165472       24026 2008-08-13      8\n",
       "165473       24026 2008-08-13      8\n",
       "\n",
       "[165474 rows x 3 columns]"
      ]
     },
     "execution_count": 441,
     "metadata": {},
     "output_type": "execute_result"
    }
   ],
   "source": [
    "dfcomprasmes"
   ]
  },
  {
   "cell_type": "code",
   "execution_count": 445,
   "id": "2d8039aa",
   "metadata": {},
   "outputs": [],
   "source": [
    "dfcomprasmensuales = dfcomprasmes.groupby('session_ID')"
   ]
  },
  {
   "cell_type": "code",
   "execution_count": 447,
   "id": "f6838b24",
   "metadata": {},
   "outputs": [
    {
     "data": {
      "text/html": [
       "<div>\n",
       "<style scoped>\n",
       "    .dataframe tbody tr th:only-of-type {\n",
       "        vertical-align: middle;\n",
       "    }\n",
       "\n",
       "    .dataframe tbody tr th {\n",
       "        vertical-align: top;\n",
       "    }\n",
       "\n",
       "    .dataframe thead th {\n",
       "        text-align: right;\n",
       "    }\n",
       "</style>\n",
       "<table border=\"1\" class=\"dataframe\">\n",
       "  <thead>\n",
       "    <tr style=\"text-align: right;\">\n",
       "      <th></th>\n",
       "      <th>session_ID</th>\n",
       "      <th>date</th>\n",
       "      <th>month</th>\n",
       "    </tr>\n",
       "  </thead>\n",
       "  <tbody>\n",
       "    <tr>\n",
       "      <th>0</th>\n",
       "      <td>1</td>\n",
       "      <td>2008-04-01</td>\n",
       "      <td>4</td>\n",
       "    </tr>\n",
       "    <tr>\n",
       "      <th>1</th>\n",
       "      <td>1</td>\n",
       "      <td>2008-04-01</td>\n",
       "      <td>4</td>\n",
       "    </tr>\n",
       "    <tr>\n",
       "      <th>2</th>\n",
       "      <td>1</td>\n",
       "      <td>2008-04-01</td>\n",
       "      <td>4</td>\n",
       "    </tr>\n",
       "    <tr>\n",
       "      <th>3</th>\n",
       "      <td>1</td>\n",
       "      <td>2008-04-01</td>\n",
       "      <td>4</td>\n",
       "    </tr>\n",
       "    <tr>\n",
       "      <th>4</th>\n",
       "      <td>1</td>\n",
       "      <td>2008-04-01</td>\n",
       "      <td>4</td>\n",
       "    </tr>\n",
       "    <tr>\n",
       "      <th>...</th>\n",
       "      <td>...</td>\n",
       "      <td>...</td>\n",
       "      <td>...</td>\n",
       "    </tr>\n",
       "    <tr>\n",
       "      <th>165469</th>\n",
       "      <td>24024</td>\n",
       "      <td>2008-08-13</td>\n",
       "      <td>8</td>\n",
       "    </tr>\n",
       "    <tr>\n",
       "      <th>165470</th>\n",
       "      <td>24025</td>\n",
       "      <td>2008-08-13</td>\n",
       "      <td>8</td>\n",
       "    </tr>\n",
       "    <tr>\n",
       "      <th>165471</th>\n",
       "      <td>24026</td>\n",
       "      <td>2008-08-13</td>\n",
       "      <td>8</td>\n",
       "    </tr>\n",
       "    <tr>\n",
       "      <th>165472</th>\n",
       "      <td>24026</td>\n",
       "      <td>2008-08-13</td>\n",
       "      <td>8</td>\n",
       "    </tr>\n",
       "    <tr>\n",
       "      <th>165473</th>\n",
       "      <td>24026</td>\n",
       "      <td>2008-08-13</td>\n",
       "      <td>8</td>\n",
       "    </tr>\n",
       "  </tbody>\n",
       "</table>\n",
       "<p>82725 rows × 3 columns</p>\n",
       "</div>"
      ],
      "text/plain": [
       "        session_ID       date  month\n",
       "0                1 2008-04-01      4\n",
       "1                1 2008-04-01      4\n",
       "2                1 2008-04-01      4\n",
       "3                1 2008-04-01      4\n",
       "4                1 2008-04-01      4\n",
       "...            ...        ...    ...\n",
       "165469       24024 2008-08-13      8\n",
       "165470       24025 2008-08-13      8\n",
       "165471       24026 2008-08-13      8\n",
       "165472       24026 2008-08-13      8\n",
       "165473       24026 2008-08-13      8\n",
       "\n",
       "[82725 rows x 3 columns]"
      ]
     },
     "execution_count": 447,
     "metadata": {},
     "output_type": "execute_result"
    }
   ],
   "source": [
    "dfcomprasmensuales.head()"
   ]
  },
  {
   "cell_type": "code",
   "execution_count": 424,
   "id": "fb341a9d",
   "metadata": {},
   "outputs": [
    {
     "data": {
      "text/html": [
       "<div>\n",
       "<style scoped>\n",
       "    .dataframe tbody tr th:only-of-type {\n",
       "        vertical-align: middle;\n",
       "    }\n",
       "\n",
       "    .dataframe tbody tr th {\n",
       "        vertical-align: top;\n",
       "    }\n",
       "\n",
       "    .dataframe thead th {\n",
       "        text-align: right;\n",
       "    }\n",
       "</style>\n",
       "<table border=\"1\" class=\"dataframe\">\n",
       "  <thead>\n",
       "    <tr style=\"text-align: right;\">\n",
       "      <th></th>\n",
       "      <th>session_ID</th>\n",
       "      <th>month</th>\n",
       "    </tr>\n",
       "  </thead>\n",
       "  <tbody>\n",
       "    <tr>\n",
       "      <th>0</th>\n",
       "      <td>1</td>\n",
       "      <td>4</td>\n",
       "    </tr>\n",
       "    <tr>\n",
       "      <th>1</th>\n",
       "      <td>1</td>\n",
       "      <td>4</td>\n",
       "    </tr>\n",
       "    <tr>\n",
       "      <th>2</th>\n",
       "      <td>1</td>\n",
       "      <td>4</td>\n",
       "    </tr>\n",
       "    <tr>\n",
       "      <th>3</th>\n",
       "      <td>1</td>\n",
       "      <td>4</td>\n",
       "    </tr>\n",
       "    <tr>\n",
       "      <th>4</th>\n",
       "      <td>1</td>\n",
       "      <td>4</td>\n",
       "    </tr>\n",
       "    <tr>\n",
       "      <th>...</th>\n",
       "      <td>...</td>\n",
       "      <td>...</td>\n",
       "    </tr>\n",
       "    <tr>\n",
       "      <th>165469</th>\n",
       "      <td>24024</td>\n",
       "      <td>8</td>\n",
       "    </tr>\n",
       "    <tr>\n",
       "      <th>165470</th>\n",
       "      <td>24025</td>\n",
       "      <td>8</td>\n",
       "    </tr>\n",
       "    <tr>\n",
       "      <th>165471</th>\n",
       "      <td>24026</td>\n",
       "      <td>8</td>\n",
       "    </tr>\n",
       "    <tr>\n",
       "      <th>165472</th>\n",
       "      <td>24026</td>\n",
       "      <td>8</td>\n",
       "    </tr>\n",
       "    <tr>\n",
       "      <th>165473</th>\n",
       "      <td>24026</td>\n",
       "      <td>8</td>\n",
       "    </tr>\n",
       "  </tbody>\n",
       "</table>\n",
       "<p>82725 rows × 2 columns</p>\n",
       "</div>"
      ],
      "text/plain": [
       "        session_ID  month\n",
       "0                1      4\n",
       "1                1      4\n",
       "2                1      4\n",
       "3                1      4\n",
       "4                1      4\n",
       "...            ...    ...\n",
       "165469       24024      8\n",
       "165470       24025      8\n",
       "165471       24026      8\n",
       "165472       24026      8\n",
       "165473       24026      8\n",
       "\n",
       "[82725 rows x 2 columns]"
      ]
     },
     "execution_count": 424,
     "metadata": {},
     "output_type": "execute_result"
    }
   ],
   "source": [
    "usuarios.head()\n",
    "#tengo una tabla en la que aparece la sesión ID y el mes "
   ]
  },
  {
   "cell_type": "code",
   "execution_count": null,
   "id": "79f4e4c0",
   "metadata": {},
   "outputs": [],
   "source": [
    "#Sin embargo lo que yo quiero ver ahora es si esos usuarios han comprado también el mes anterior\n",
    "#Para ello tengo que crear una función PERO NO LO CONSIGO asdfasdfasdf"
   ]
  },
  {
   "cell_type": "markdown",
   "id": "ef1312df",
   "metadata": {},
   "source": [
    "### Categoría"
   ]
  },
  {
   "cell_type": "markdown",
   "id": "5160c231",
   "metadata": {},
   "source": [
    "Sabemos que hay cuatro categorías, que son pantalones, faldas, blusas y productos en rebajas\n",
    "- (1) trousers\n",
    "- (2) skirts\n",
    "- (3) blouses\n",
    "- (4) sale"
   ]
  },
  {
   "cell_type": "code",
   "execution_count": 482,
   "id": "b45fb5d8",
   "metadata": {},
   "outputs": [
    {
     "data": {
      "text/plain": [
       "<AxesSubplot:xlabel='month', ylabel='Count'>"
      ]
     },
     "execution_count": 482,
     "metadata": {},
     "output_type": "execute_result"
    },
    {
     "data": {
      "image/png": "[encoded data removed]",
      "text/plain": [
       "<Figure size 640x480 with 1 Axes>"
      ]
     },
     "metadata": {},
     "output_type": "display_data"
    }
   ],
   "source": [
    "sns.histplot(data=df, x='month', hue='category', palette='colorblind', bins=9)\n",
    "\n",
    "#POR QUÉ NO SE CORRESONDE AL COLOR"
   ]
  },
  {
   "cell_type": "code",
   "execution_count": 481,
   "id": "c8f727de",
   "metadata": {},
   "outputs": [
    {
     "data": {
      "text/plain": [
       "<AxesSubplot:xlabel='month', ylabel='Count'>"
      ]
     },
     "execution_count": 481,
     "metadata": {},
     "output_type": "execute_result"
    },
    {
     "data": {
      "image/png": "[encoded data removed]",
      "text/plain": [
       "<Figure size 640x480 with 1 Axes>"
      ]
     },
     "metadata": {},
     "output_type": "display_data"
    }
   ],
   "source": [
    "sns.histplot(data=df, x='month', hue='category', bins=9)\n",
    "#Podemos ver que el producto que más se vende son las pantalones. Después las blusas. \n",
    "#En los meses de abril, julio y agosto se venden más productos en oferta\n",
    "\n",
    "#El color apenas se diferencia, tengo que cambiarlo pero no se representa facilmente"
   ]
  },
  {
   "cell_type": "code",
   "execution_count": 487,
   "id": "e992d08b",
   "metadata": {},
   "outputs": [
    {
     "data": {
      "text/plain": [
       "<AxesSubplot:xlabel='category', ylabel='price'>"
      ]
     },
     "execution_count": 487,
     "metadata": {},
     "output_type": "execute_result"
    },
    {
     "data": {
      "image/png": "[encoded data removed]",
      "text/plain": [
       "<Figure size 640x480 with 1 Axes>"
      ]
     },
     "metadata": {},
     "output_type": "display_data"
    }
   ],
   "source": [
    "sns.boxplot( x=df[\"category\"], y=df[\"price\"] )\n",
    "#Como podemos ver, los pantalones tienen precios más altos, al igual que las blusas (estos son los más comprados)\n",
    "#Aunque el precio maximo de algunas blusas es más alto, el precio de la mayoría de vendidos no supera al precio medio vendido de faldas\n",
    "#De hecho, respecto a la mayoría de productos vendidos de una categoría, se suelen vender las faldas y blusas más caras dentro de la categoria\n",
    "#Por el contrario, se suelen venden los pantalones más baratos dentro de su categoría (aunque se vendan todos)\n",
    "#Como es de esperar, las rebajas (4) tienen precios más bajos. Algunos productos vendidos estaban fuera del precio normal de rebajas"
   ]
  },
  {
   "cell_type": "markdown",
   "id": "6f203237",
   "metadata": {},
   "source": [
    "### Producto"
   ]
  },
  {
   "cell_type": "code",
   "execution_count": 488,
   "id": "267b7970",
   "metadata": {},
   "outputs": [
    {
     "data": {
      "text/plain": [
       "Index(['year', 'month', 'day', 'clics', 'country', 'session_ID', 'category',\n",
       "       'clothing_code', 'colour', 'location', 'model_photography', 'price',\n",
       "       'overpriced', 'page', 'date', 'InvoiceMonth', 'CohortMonth',\n",
       "       'CohortIndex'],\n",
       "      dtype='object')"
      ]
     },
     "execution_count": 488,
     "metadata": {},
     "output_type": "execute_result"
    }
   ],
   "source": [
    "df.columns"
   ]
  },
  {
   "cell_type": "code",
   "execution_count": 489,
   "id": "143838f1",
   "metadata": {},
   "outputs": [
    {
     "data": {
      "text/plain": [
       "count     165474\n",
       "unique       217\n",
       "top           B4\n",
       "freq        3579\n",
       "Name: clothing_code, dtype: object"
      ]
     },
     "execution_count": 489,
     "metadata": {},
     "output_type": "execute_result"
    }
   ],
   "source": [
    "df.clothing_code.describe()\n",
    "#Hay un total de 217 productos"
   ]
  },
  {
   "cell_type": "code",
   "execution_count": 509,
   "id": "adcae209",
   "metadata": {},
   "outputs": [],
   "source": [
    "productos = df.groupby('clothing_code')['clothing_code'].value_counts()"
   ]
  },
  {
   "cell_type": "code",
   "execution_count": 510,
   "id": "a9ac6ab2",
   "metadata": {},
   "outputs": [
    {
     "data": {
      "text/plain": [
       "clothing_code  clothing_code\n",
       "A1             A1               2265\n",
       "A10            A10              2280\n",
       "A11            A11              2789\n",
       "A12            A12              2010\n",
       "A13            A13              1577\n",
       "                                ... \n",
       "P8             P8                661\n",
       "P80            P80               222\n",
       "P81            P81               202\n",
       "P82            P82               725\n",
       "P9             P9                612\n",
       "Name: clothing_code, Length: 217, dtype: int64"
      ]
     },
     "execution_count": 510,
     "metadata": {},
     "output_type": "execute_result"
    }
   ],
   "source": [
    "productos"
   ]
  },
  {
   "cell_type": "code",
   "execution_count": 511,
   "id": "42d2c213",
   "metadata": {},
   "outputs": [
    {
     "data": {
      "text/plain": [
       "pandas.core.series.Series"
      ]
     },
     "execution_count": 511,
     "metadata": {},
     "output_type": "execute_result"
    }
   ],
   "source": [
    "type(productos)"
   ]
  },
  {
   "cell_type": "code",
   "execution_count": 512,
   "id": "e97b4029",
   "metadata": {},
   "outputs": [],
   "source": [
    "dfproducts = productos.to_frame()"
   ]
  },
  {
   "cell_type": "code",
   "execution_count": 520,
   "id": "decdc633",
   "metadata": {},
   "outputs": [
    {
     "data": {
      "text/plain": [
       "Index(['count'], dtype='object')"
      ]
     },
     "execution_count": 520,
     "metadata": {},
     "output_type": "execute_result"
    }
   ],
   "source": [
    "dfproducts = dfproducts.rename(columns={'clothing_code': 'count'})\n",
    "dfproducts.columns"
   ]
  },
  {
   "cell_type": "code",
   "execution_count": 521,
   "id": "6b402754",
   "metadata": {},
   "outputs": [
    {
     "data": {
      "text/html": [
       "<div>\n",
       "<style scoped>\n",
       "    .dataframe tbody tr th:only-of-type {\n",
       "        vertical-align: middle;\n",
       "    }\n",
       "\n",
       "    .dataframe tbody tr th {\n",
       "        vertical-align: top;\n",
       "    }\n",
       "\n",
       "    .dataframe thead th {\n",
       "        text-align: right;\n",
       "    }\n",
       "</style>\n",
       "<table border=\"1\" class=\"dataframe\">\n",
       "  <thead>\n",
       "    <tr style=\"text-align: right;\">\n",
       "      <th></th>\n",
       "      <th></th>\n",
       "      <th>count</th>\n",
       "    </tr>\n",
       "    <tr>\n",
       "      <th>clothing_code</th>\n",
       "      <th>clothing_code</th>\n",
       "      <th></th>\n",
       "    </tr>\n",
       "  </thead>\n",
       "  <tbody>\n",
       "    <tr>\n",
       "      <th>A1</th>\n",
       "      <th>A1</th>\n",
       "      <td>2265</td>\n",
       "    </tr>\n",
       "    <tr>\n",
       "      <th>A10</th>\n",
       "      <th>A10</th>\n",
       "      <td>2280</td>\n",
       "    </tr>\n",
       "    <tr>\n",
       "      <th>A11</th>\n",
       "      <th>A11</th>\n",
       "      <td>2789</td>\n",
       "    </tr>\n",
       "    <tr>\n",
       "      <th>A12</th>\n",
       "      <th>A12</th>\n",
       "      <td>2010</td>\n",
       "    </tr>\n",
       "    <tr>\n",
       "      <th>A13</th>\n",
       "      <th>A13</th>\n",
       "      <td>1577</td>\n",
       "    </tr>\n",
       "    <tr>\n",
       "      <th>...</th>\n",
       "      <th>...</th>\n",
       "      <td>...</td>\n",
       "    </tr>\n",
       "    <tr>\n",
       "      <th>P8</th>\n",
       "      <th>P8</th>\n",
       "      <td>661</td>\n",
       "    </tr>\n",
       "    <tr>\n",
       "      <th>P80</th>\n",
       "      <th>P80</th>\n",
       "      <td>222</td>\n",
       "    </tr>\n",
       "    <tr>\n",
       "      <th>P81</th>\n",
       "      <th>P81</th>\n",
       "      <td>202</td>\n",
       "    </tr>\n",
       "    <tr>\n",
       "      <th>P82</th>\n",
       "      <th>P82</th>\n",
       "      <td>725</td>\n",
       "    </tr>\n",
       "    <tr>\n",
       "      <th>P9</th>\n",
       "      <th>P9</th>\n",
       "      <td>612</td>\n",
       "    </tr>\n",
       "  </tbody>\n",
       "</table>\n",
       "<p>217 rows × 1 columns</p>\n",
       "</div>"
      ],
      "text/plain": [
       "                             count\n",
       "clothing_code clothing_code       \n",
       "A1            A1              2265\n",
       "A10           A10             2280\n",
       "A11           A11             2789\n",
       "A12           A12             2010\n",
       "A13           A13             1577\n",
       "...                            ...\n",
       "P8            P8               661\n",
       "P80           P80              222\n",
       "P81           P81              202\n",
       "P82           P82              725\n",
       "P9            P9               612\n",
       "\n",
       "[217 rows x 1 columns]"
      ]
     },
     "execution_count": 521,
     "metadata": {},
     "output_type": "execute_result"
    }
   ],
   "source": [
    "dfproducts"
   ]
  },
  {
   "cell_type": "code",
   "execution_count": 538,
   "id": "aed80ed0",
   "metadata": {},
   "outputs": [
    {
     "data": {
      "text/plain": [
       "count     217.000000\n",
       "mean      762.552995\n",
       "std       614.330174\n",
       "min         1.000000\n",
       "25%       356.000000\n",
       "50%       590.000000\n",
       "75%       949.000000\n",
       "max      3579.000000\n",
       "Name: count, dtype: float64"
      ]
     },
     "execution_count": 538,
     "metadata": {},
     "output_type": "execute_result"
    }
   ],
   "source": [
    "dfproducts['count'].describe()\n",
    "#La media de ventas por producto es de 762, el percentil 50 es 590 \n",
    "#El mínimo es 1 y el máximo es 3579 ventas por un producto"
   ]
  },
  {
   "cell_type": "code",
   "execution_count": 543,
   "id": "dea953da",
   "metadata": {},
   "outputs": [
    {
     "data": {
      "text/html": [
       "<div>\n",
       "<style scoped>\n",
       "    .dataframe tbody tr th:only-of-type {\n",
       "        vertical-align: middle;\n",
       "    }\n",
       "\n",
       "    .dataframe tbody tr th {\n",
       "        vertical-align: top;\n",
       "    }\n",
       "\n",
       "    .dataframe thead th {\n",
       "        text-align: right;\n",
       "    }\n",
       "</style>\n",
       "<table border=\"1\" class=\"dataframe\">\n",
       "  <thead>\n",
       "    <tr style=\"text-align: right;\">\n",
       "      <th></th>\n",
       "      <th></th>\n",
       "      <th>count</th>\n",
       "    </tr>\n",
       "    <tr>\n",
       "      <th>clothing_code</th>\n",
       "      <th>clothing_code</th>\n",
       "      <th></th>\n",
       "    </tr>\n",
       "  </thead>\n",
       "  <tbody>\n",
       "    <tr>\n",
       "      <th>B4</th>\n",
       "      <th>B4</th>\n",
       "      <td>3579</td>\n",
       "    </tr>\n",
       "  </tbody>\n",
       "</table>\n",
       "</div>"
      ],
      "text/plain": [
       "                             count\n",
       "clothing_code clothing_code       \n",
       "B4            B4              3579"
      ]
     },
     "execution_count": 543,
     "metadata": {},
     "output_type": "execute_result"
    }
   ],
   "source": [
    "dfproducts[(dfproducts['count']==3579)]\n",
    "#El producto más vendido corresponde al código B4"
   ]
  },
  {
   "cell_type": "code",
   "execution_count": 546,
   "id": "ebdb52a2",
   "metadata": {},
   "outputs": [
    {
     "data": {
      "text/html": [
       "<div>\n",
       "<style scoped>\n",
       "    .dataframe tbody tr th:only-of-type {\n",
       "        vertical-align: middle;\n",
       "    }\n",
       "\n",
       "    .dataframe tbody tr th {\n",
       "        vertical-align: top;\n",
       "    }\n",
       "\n",
       "    .dataframe thead th {\n",
       "        text-align: right;\n",
       "    }\n",
       "</style>\n",
       "<table border=\"1\" class=\"dataframe\">\n",
       "  <thead>\n",
       "    <tr style=\"text-align: right;\">\n",
       "      <th></th>\n",
       "      <th>year</th>\n",
       "      <th>month</th>\n",
       "      <th>day</th>\n",
       "      <th>clics</th>\n",
       "      <th>country</th>\n",
       "      <th>session_ID</th>\n",
       "      <th>category</th>\n",
       "      <th>code</th>\n",
       "      <th>colour</th>\n",
       "      <th>location</th>\n",
       "      <th>model_photography</th>\n",
       "      <th>price</th>\n",
       "      <th>overpriced</th>\n",
       "      <th>page</th>\n",
       "      <th>date</th>\n",
       "      <th>InvoiceMonth</th>\n",
       "      <th>CohortMonth</th>\n",
       "      <th>CohortIndex</th>\n",
       "    </tr>\n",
       "  </thead>\n",
       "  <tbody>\n",
       "    <tr>\n",
       "      <th>2</th>\n",
       "      <td>2008</td>\n",
       "      <td>4</td>\n",
       "      <td>1</td>\n",
       "      <td>3</td>\n",
       "      <td>29</td>\n",
       "      <td>1</td>\n",
       "      <td>2</td>\n",
       "      <td>B4</td>\n",
       "      <td>10</td>\n",
       "      <td>2</td>\n",
       "      <td>1</td>\n",
       "      <td>52</td>\n",
       "      <td>1</td>\n",
       "      <td>1</td>\n",
       "      <td>2008-04-01</td>\n",
       "      <td>2008-04-01</td>\n",
       "      <td>2008-04-01</td>\n",
       "      <td>1</td>\n",
       "    </tr>\n",
       "    <tr>\n",
       "      <th>45</th>\n",
       "      <td>2008</td>\n",
       "      <td>4</td>\n",
       "      <td>1</td>\n",
       "      <td>11</td>\n",
       "      <td>29</td>\n",
       "      <td>7</td>\n",
       "      <td>2</td>\n",
       "      <td>B4</td>\n",
       "      <td>10</td>\n",
       "      <td>2</td>\n",
       "      <td>1</td>\n",
       "      <td>52</td>\n",
       "      <td>1</td>\n",
       "      <td>1</td>\n",
       "      <td>2008-04-01</td>\n",
       "      <td>2008-04-01</td>\n",
       "      <td>2008-04-01</td>\n",
       "      <td>1</td>\n",
       "    </tr>\n",
       "    <tr>\n",
       "      <th>60</th>\n",
       "      <td>2008</td>\n",
       "      <td>4</td>\n",
       "      <td>1</td>\n",
       "      <td>3</td>\n",
       "      <td>16</td>\n",
       "      <td>10</td>\n",
       "      <td>2</td>\n",
       "      <td>B4</td>\n",
       "      <td>10</td>\n",
       "      <td>2</td>\n",
       "      <td>1</td>\n",
       "      <td>52</td>\n",
       "      <td>1</td>\n",
       "      <td>1</td>\n",
       "      <td>2008-04-01</td>\n",
       "      <td>2008-04-01</td>\n",
       "      <td>2008-04-01</td>\n",
       "      <td>1</td>\n",
       "    </tr>\n",
       "    <tr>\n",
       "      <th>64</th>\n",
       "      <td>2008</td>\n",
       "      <td>4</td>\n",
       "      <td>1</td>\n",
       "      <td>1</td>\n",
       "      <td>29</td>\n",
       "      <td>12</td>\n",
       "      <td>2</td>\n",
       "      <td>B4</td>\n",
       "      <td>10</td>\n",
       "      <td>2</td>\n",
       "      <td>1</td>\n",
       "      <td>52</td>\n",
       "      <td>1</td>\n",
       "      <td>1</td>\n",
       "      <td>2008-04-01</td>\n",
       "      <td>2008-04-01</td>\n",
       "      <td>2008-04-01</td>\n",
       "      <td>1</td>\n",
       "    </tr>\n",
       "    <tr>\n",
       "      <th>144</th>\n",
       "      <td>2008</td>\n",
       "      <td>4</td>\n",
       "      <td>1</td>\n",
       "      <td>3</td>\n",
       "      <td>29</td>\n",
       "      <td>24</td>\n",
       "      <td>2</td>\n",
       "      <td>B4</td>\n",
       "      <td>10</td>\n",
       "      <td>2</td>\n",
       "      <td>1</td>\n",
       "      <td>52</td>\n",
       "      <td>1</td>\n",
       "      <td>1</td>\n",
       "      <td>2008-04-01</td>\n",
       "      <td>2008-04-01</td>\n",
       "      <td>2008-04-01</td>\n",
       "      <td>1</td>\n",
       "    </tr>\n",
       "    <tr>\n",
       "      <th>...</th>\n",
       "      <td>...</td>\n",
       "      <td>...</td>\n",
       "      <td>...</td>\n",
       "      <td>...</td>\n",
       "      <td>...</td>\n",
       "      <td>...</td>\n",
       "      <td>...</td>\n",
       "      <td>...</td>\n",
       "      <td>...</td>\n",
       "      <td>...</td>\n",
       "      <td>...</td>\n",
       "      <td>...</td>\n",
       "      <td>...</td>\n",
       "      <td>...</td>\n",
       "      <td>...</td>\n",
       "      <td>...</td>\n",
       "      <td>...</td>\n",
       "      <td>...</td>\n",
       "    </tr>\n",
       "    <tr>\n",
       "      <th>165317</th>\n",
       "      <td>2008</td>\n",
       "      <td>8</td>\n",
       "      <td>13</td>\n",
       "      <td>4</td>\n",
       "      <td>29</td>\n",
       "      <td>24011</td>\n",
       "      <td>2</td>\n",
       "      <td>B4</td>\n",
       "      <td>10</td>\n",
       "      <td>2</td>\n",
       "      <td>1</td>\n",
       "      <td>52</td>\n",
       "      <td>1</td>\n",
       "      <td>1</td>\n",
       "      <td>2008-08-13</td>\n",
       "      <td>2008-08-01</td>\n",
       "      <td>2008-08-01</td>\n",
       "      <td>1</td>\n",
       "    </tr>\n",
       "    <tr>\n",
       "      <th>165362</th>\n",
       "      <td>2008</td>\n",
       "      <td>8</td>\n",
       "      <td>13</td>\n",
       "      <td>38</td>\n",
       "      <td>29</td>\n",
       "      <td>24012</td>\n",
       "      <td>2</td>\n",
       "      <td>B4</td>\n",
       "      <td>10</td>\n",
       "      <td>2</td>\n",
       "      <td>1</td>\n",
       "      <td>52</td>\n",
       "      <td>1</td>\n",
       "      <td>1</td>\n",
       "      <td>2008-08-13</td>\n",
       "      <td>2008-08-01</td>\n",
       "      <td>2008-08-01</td>\n",
       "      <td>1</td>\n",
       "    </tr>\n",
       "    <tr>\n",
       "      <th>165363</th>\n",
       "      <td>2008</td>\n",
       "      <td>8</td>\n",
       "      <td>13</td>\n",
       "      <td>39</td>\n",
       "      <td>29</td>\n",
       "      <td>24012</td>\n",
       "      <td>2</td>\n",
       "      <td>B4</td>\n",
       "      <td>10</td>\n",
       "      <td>2</td>\n",
       "      <td>1</td>\n",
       "      <td>52</td>\n",
       "      <td>1</td>\n",
       "      <td>1</td>\n",
       "      <td>2008-08-13</td>\n",
       "      <td>2008-08-01</td>\n",
       "      <td>2008-08-01</td>\n",
       "      <td>1</td>\n",
       "    </tr>\n",
       "    <tr>\n",
       "      <th>165416</th>\n",
       "      <td>2008</td>\n",
       "      <td>8</td>\n",
       "      <td>13</td>\n",
       "      <td>12</td>\n",
       "      <td>29</td>\n",
       "      <td>24018</td>\n",
       "      <td>2</td>\n",
       "      <td>B4</td>\n",
       "      <td>10</td>\n",
       "      <td>2</td>\n",
       "      <td>1</td>\n",
       "      <td>52</td>\n",
       "      <td>1</td>\n",
       "      <td>1</td>\n",
       "      <td>2008-08-13</td>\n",
       "      <td>2008-08-01</td>\n",
       "      <td>2008-08-01</td>\n",
       "      <td>1</td>\n",
       "    </tr>\n",
       "    <tr>\n",
       "      <th>165451</th>\n",
       "      <td>2008</td>\n",
       "      <td>8</td>\n",
       "      <td>13</td>\n",
       "      <td>3</td>\n",
       "      <td>29</td>\n",
       "      <td>24020</td>\n",
       "      <td>2</td>\n",
       "      <td>B4</td>\n",
       "      <td>10</td>\n",
       "      <td>2</td>\n",
       "      <td>1</td>\n",
       "      <td>52</td>\n",
       "      <td>1</td>\n",
       "      <td>1</td>\n",
       "      <td>2008-08-13</td>\n",
       "      <td>2008-08-01</td>\n",
       "      <td>2008-08-01</td>\n",
       "      <td>1</td>\n",
       "    </tr>\n",
       "  </tbody>\n",
       "</table>\n",
       "<p>3579 rows × 18 columns</p>\n",
       "</div>"
      ],
      "text/plain": [
       "        year  month  day  clics  country  session_ID  category code  colour  \\\n",
       "2       2008      4    1      3       29           1         2   B4      10   \n",
       "45      2008      4    1     11       29           7         2   B4      10   \n",
       "60      2008      4    1      3       16          10         2   B4      10   \n",
       "64      2008      4    1      1       29          12         2   B4      10   \n",
       "144     2008      4    1      3       29          24         2   B4      10   \n",
       "...      ...    ...  ...    ...      ...         ...       ...  ...     ...   \n",
       "165317  2008      8   13      4       29       24011         2   B4      10   \n",
       "165362  2008      8   13     38       29       24012         2   B4      10   \n",
       "165363  2008      8   13     39       29       24012         2   B4      10   \n",
       "165416  2008      8   13     12       29       24018         2   B4      10   \n",
       "165451  2008      8   13      3       29       24020         2   B4      10   \n",
       "\n",
       "        location  model_photography  price  overpriced  page       date  \\\n",
       "2              2                  1     52           1     1 2008-04-01   \n",
       "45             2                  1     52           1     1 2008-04-01   \n",
       "60             2                  1     52           1     1 2008-04-01   \n",
       "64             2                  1     52           1     1 2008-04-01   \n",
       "144            2                  1     52           1     1 2008-04-01   \n",
       "...          ...                ...    ...         ...   ...        ...   \n",
       "165317         2                  1     52           1     1 2008-08-13   \n",
       "165362         2                  1     52           1     1 2008-08-13   \n",
       "165363         2                  1     52           1     1 2008-08-13   \n",
       "165416         2                  1     52           1     1 2008-08-13   \n",
       "165451         2                  1     52           1     1 2008-08-13   \n",
       "\n",
       "       InvoiceMonth CohortMonth  CohortIndex  \n",
       "2        2008-04-01  2008-04-01            1  \n",
       "45       2008-04-01  2008-04-01            1  \n",
       "60       2008-04-01  2008-04-01            1  \n",
       "64       2008-04-01  2008-04-01            1  \n",
       "144      2008-04-01  2008-04-01            1  \n",
       "...             ...         ...          ...  \n",
       "165317   2008-08-01  2008-08-01            1  \n",
       "165362   2008-08-01  2008-08-01            1  \n",
       "165363   2008-08-01  2008-08-01            1  \n",
       "165416   2008-08-01  2008-08-01            1  \n",
       "165451   2008-08-01  2008-08-01            1  \n",
       "\n",
       "[3579 rows x 18 columns]"
      ]
     },
     "execution_count": 546,
     "metadata": {},
     "output_type": "execute_result"
    }
   ],
   "source": [
    "df[(df['code']=='B4')]\n",
    "#Se trata de una falda, en la página 1 del e-commerce y de color verde oliva"
   ]
  },
  {
   "cell_type": "code",
   "execution_count": 554,
   "id": "16858358",
   "metadata": {},
   "outputs": [],
   "source": [
    "dfproducts['nivel_venta'] = pd.cut(dfproducts['count'],bins=[0,100,500,1000,1000000],labels=[\"Menos de 100\", \"100-500\",\"500-1000\",\"Más de 1000\"])"
   ]
  },
  {
   "cell_type": "code",
   "execution_count": 555,
   "id": "426838dd",
   "metadata": {},
   "outputs": [
    {
     "data": {
      "text/html": [
       "<div>\n",
       "<style scoped>\n",
       "    .dataframe tbody tr th:only-of-type {\n",
       "        vertical-align: middle;\n",
       "    }\n",
       "\n",
       "    .dataframe tbody tr th {\n",
       "        vertical-align: top;\n",
       "    }\n",
       "\n",
       "    .dataframe thead th {\n",
       "        text-align: right;\n",
       "    }\n",
       "</style>\n",
       "<table border=\"1\" class=\"dataframe\">\n",
       "  <thead>\n",
       "    <tr style=\"text-align: right;\">\n",
       "      <th></th>\n",
       "      <th></th>\n",
       "      <th>count</th>\n",
       "      <th>nivelventa</th>\n",
       "      <th>nivel_venta</th>\n",
       "    </tr>\n",
       "    <tr>\n",
       "      <th>clothing_code</th>\n",
       "      <th>clothing_code</th>\n",
       "      <th></th>\n",
       "      <th></th>\n",
       "      <th></th>\n",
       "    </tr>\n",
       "  </thead>\n",
       "  <tbody>\n",
       "    <tr>\n",
       "      <th>A1</th>\n",
       "      <th>A1</th>\n",
       "      <td>2265</td>\n",
       "      <td>alta</td>\n",
       "      <td>Más de 1000</td>\n",
       "    </tr>\n",
       "    <tr>\n",
       "      <th>A10</th>\n",
       "      <th>A10</th>\n",
       "      <td>2280</td>\n",
       "      <td>alta</td>\n",
       "      <td>Más de 1000</td>\n",
       "    </tr>\n",
       "    <tr>\n",
       "      <th>A11</th>\n",
       "      <th>A11</th>\n",
       "      <td>2789</td>\n",
       "      <td>alta</td>\n",
       "      <td>Más de 1000</td>\n",
       "    </tr>\n",
       "    <tr>\n",
       "      <th>A12</th>\n",
       "      <th>A12</th>\n",
       "      <td>2010</td>\n",
       "      <td>alta</td>\n",
       "      <td>Más de 1000</td>\n",
       "    </tr>\n",
       "    <tr>\n",
       "      <th>A13</th>\n",
       "      <th>A13</th>\n",
       "      <td>1577</td>\n",
       "      <td>alta</td>\n",
       "      <td>Más de 1000</td>\n",
       "    </tr>\n",
       "    <tr>\n",
       "      <th>...</th>\n",
       "      <th>...</th>\n",
       "      <td>...</td>\n",
       "      <td>...</td>\n",
       "      <td>...</td>\n",
       "    </tr>\n",
       "    <tr>\n",
       "      <th>P8</th>\n",
       "      <th>P8</th>\n",
       "      <td>661</td>\n",
       "      <td>media-alta</td>\n",
       "      <td>500-1000</td>\n",
       "    </tr>\n",
       "    <tr>\n",
       "      <th>P80</th>\n",
       "      <th>P80</th>\n",
       "      <td>222</td>\n",
       "      <td>media</td>\n",
       "      <td>100-500</td>\n",
       "    </tr>\n",
       "    <tr>\n",
       "      <th>P81</th>\n",
       "      <th>P81</th>\n",
       "      <td>202</td>\n",
       "      <td>media</td>\n",
       "      <td>100-500</td>\n",
       "    </tr>\n",
       "    <tr>\n",
       "      <th>P82</th>\n",
       "      <th>P82</th>\n",
       "      <td>725</td>\n",
       "      <td>media-alta</td>\n",
       "      <td>500-1000</td>\n",
       "    </tr>\n",
       "    <tr>\n",
       "      <th>P9</th>\n",
       "      <th>P9</th>\n",
       "      <td>612</td>\n",
       "      <td>media-alta</td>\n",
       "      <td>500-1000</td>\n",
       "    </tr>\n",
       "  </tbody>\n",
       "</table>\n",
       "<p>217 rows × 3 columns</p>\n",
       "</div>"
      ],
      "text/plain": [
       "                             count  nivelventa  nivel_venta\n",
       "clothing_code clothing_code                                \n",
       "A1            A1              2265        alta  Más de 1000\n",
       "A10           A10             2280        alta  Más de 1000\n",
       "A11           A11             2789        alta  Más de 1000\n",
       "A12           A12             2010        alta  Más de 1000\n",
       "A13           A13             1577        alta  Más de 1000\n",
       "...                            ...         ...          ...\n",
       "P8            P8               661  media-alta     500-1000\n",
       "P80           P80              222       media      100-500\n",
       "P81           P81              202       media      100-500\n",
       "P82           P82              725  media-alta     500-1000\n",
       "P9            P9               612  media-alta     500-1000\n",
       "\n",
       "[217 rows x 3 columns]"
      ]
     },
     "execution_count": 555,
     "metadata": {},
     "output_type": "execute_result"
    }
   ],
   "source": [
    "dfproducts"
   ]
  },
  {
   "cell_type": "code",
   "execution_count": 558,
   "id": "7f103fa7",
   "metadata": {},
   "outputs": [
    {
     "data": {
      "text/plain": [
       "<AxesSubplot:xlabel='nivel_venta', ylabel='Count'>"
      ]
     },
     "execution_count": 558,
     "metadata": {},
     "output_type": "execute_result"
    },
    {
     "data": {
      "image/png": "[encoded data removed]",
      "text/plain": [
       "<Figure size 640x480 with 1 Axes>"
      ]
     },
     "metadata": {},
     "output_type": "display_data"
    }
   ],
   "source": [
    "sns.histplot(data=dfproducts, x='nivel_venta', bins=30)\n",
    "#Como podemos ver menos de 10 productos se vendieron menos de 100 unidades\n",
    "#Más de 80 productos vendieron entre 100 y 500 unidades \n",
    "#Alrededor de 50 productos vendieron más de 1000 unidades"
   ]
  },
  {
   "cell_type": "markdown",
   "id": "8d037bd6",
   "metadata": {},
   "source": [
    "### Precio"
   ]
  },
  {
   "cell_type": "code",
   "execution_count": 561,
   "id": "ac3b193b",
   "metadata": {},
   "outputs": [
    {
     "data": {
      "text/plain": [
       "count    165474.000000\n",
       "mean         43.802507\n",
       "std          12.548131\n",
       "min          18.000000\n",
       "25%          33.000000\n",
       "50%          43.000000\n",
       "75%          52.000000\n",
       "max          82.000000\n",
       "Name: price, dtype: float64"
      ]
     },
     "execution_count": 561,
     "metadata": {},
     "output_type": "execute_result"
    }
   ],
   "source": [
    "df.price.describe()\n",
    "#El precio máximo de un producto es 82 dólares\n",
    "#El percentil 50 es 43, muy parecido a la media\n",
    "#El precio más bajo es de 18 euros "
   ]
  },
  {
   "cell_type": "code",
   "execution_count": 563,
   "id": "5df0f725",
   "metadata": {},
   "outputs": [
    {
     "data": {
      "text/plain": [
       "count    165474.000000\n",
       "mean          1.488167\n",
       "std           0.499861\n",
       "min           1.000000\n",
       "25%           1.000000\n",
       "50%           1.000000\n",
       "75%           2.000000\n",
       "max           2.000000\n",
       "Name: overpriced, dtype: float64"
      ]
     },
     "execution_count": 563,
     "metadata": {},
     "output_type": "execute_result"
    }
   ],
   "source": [
    "df.overpriced.describe()"
   ]
  },
  {
   "cell_type": "code",
   "execution_count": 565,
   "id": "f51fb042",
   "metadata": {},
   "outputs": [
    {
     "data": {
      "text/plain": [
       "84695"
      ]
     },
     "execution_count": 565,
     "metadata": {},
     "output_type": "execute_result"
    }
   ],
   "source": [
    "import numpy as np\n",
    "np.sum(df['overpriced'] == 1)"
   ]
  },
  {
   "cell_type": "code",
   "execution_count": 567,
   "id": "ccfaedeb",
   "metadata": {},
   "outputs": [
    {
     "data": {
      "text/plain": [
       "(165474, 18)"
      ]
     },
     "execution_count": 567,
     "metadata": {},
     "output_type": "execute_result"
    }
   ],
   "source": [
    "df.shape"
   ]
  },
  {
   "cell_type": "code",
   "execution_count": 568,
   "id": "90ab9de1",
   "metadata": {},
   "outputs": [
    {
     "data": {
      "text/plain": [
       "80779"
      ]
     },
     "execution_count": 568,
     "metadata": {},
     "output_type": "execute_result"
    }
   ],
   "source": [
    "165474-84695"
   ]
  },
  {
   "cell_type": "markdown",
   "id": "beeea414",
   "metadata": {},
   "source": [
    "Hay 84695 productos vendidos que estaban por encima de su precio habitual y 80779 que no lo estaban.\n",
    "\n",
    "Esto quiere decir que la mitad de los productos que vende la tienda están por encima del precio habitual en comparación con su categoría"
   ]
  },
  {
   "cell_type": "markdown",
   "id": "e7ca6d08",
   "metadata": {},
   "source": [
    "### Fotografía"
   ]
  },
  {
   "cell_type": "markdown",
   "id": "579aa83e",
   "metadata": {},
   "source": [
    "LOCATION: photo location on the page, the screen has been divided into six parts:\n",
    "\n",
    "- 1-top left\n",
    "- 2-top in the middle\n",
    "- 3-top right\n",
    "- 4-bottom left\n",
    "- 5-bottom in the middle\n",
    "- 6-bottom right"
   ]
  },
  {
   "cell_type": "code",
   "execution_count": 571,
   "id": "ae4af84e",
   "metadata": {},
   "outputs": [
    {
     "data": {
      "text/plain": [
       "Index(['year', 'month', 'day', 'clics', 'country', 'session_ID', 'category',\n",
       "       'code', 'colour', 'location', 'model_photography', 'price',\n",
       "       'overpriced', 'page', 'date', 'InvoiceMonth', 'CohortMonth',\n",
       "       'CohortIndex'],\n",
       "      dtype='object')"
      ]
     },
     "execution_count": 571,
     "metadata": {},
     "output_type": "execute_result"
    }
   ],
   "source": [
    "df.columns"
   ]
  },
  {
   "cell_type": "code",
   "execution_count": 573,
   "id": "9709adf2",
   "metadata": {},
   "outputs": [
    {
     "data": {
      "text/plain": [
       "model_photography  model_photography\n",
       "1                  1                    122439\n",
       "2                  2                     43035\n",
       "Name: model_photography, dtype: int64"
      ]
     },
     "execution_count": 573,
     "metadata": {},
     "output_type": "execute_result"
    }
   ],
   "source": [
    "df.groupby('model_photography')['model_photography'].value_counts()\n",
    "#Hay el triple de productos vendidos con fotografías de frente (1) que de perfil (2)\n",
    "#Vamos a ver como se relaciona con otras variables"
   ]
  },
  {
   "cell_type": "code",
   "execution_count": 575,
   "id": "0611f9b9",
   "metadata": {},
   "outputs": [
    {
     "data": {
      "text/plain": [
       "model_photography  location\n",
       "1                  1           27570\n",
       "                   2           24575\n",
       "                   4           20569\n",
       "                   5           16801\n",
       "                   3           16677\n",
       "                   6           16247\n",
       "2                  5           10982\n",
       "                   2            8808\n",
       "                   1            6962\n",
       "                   4            6808\n",
       "                   3            4979\n",
       "                   6            4496\n",
       "Name: location, dtype: int64"
      ]
     },
     "execution_count": 575,
     "metadata": {},
     "output_type": "execute_result"
    }
   ],
   "source": [
    "#Por ejemplo, vamos a ver si varía el tipo de fotografía según su localización en la página\n",
    "df.groupby('model_photography')['location'].value_counts()"
   ]
  },
  {
   "cell_type": "code",
   "execution_count": 579,
   "id": "51499545",
   "metadata": {},
   "outputs": [
    {
     "data": {
      "text/plain": [
       "<AxesSubplot:xlabel='location', ylabel='Count'>"
      ]
     },
     "execution_count": 579,
     "metadata": {},
     "output_type": "execute_result"
    },
    {
     "data": {
      "image/png": "[encoded data removed]",
      "text/plain": [
       "<Figure size 640x480 with 1 Axes>"
      ]
     },
     "metadata": {},
     "output_type": "display_data"
    }
   ],
   "source": [
    "sns.histplot(data=df, x='location', hue='model_photography',bins=30)"
   ]
  },
  {
   "cell_type": "markdown",
   "id": "e03fab53",
   "metadata": {},
   "source": [
    "Podemos observar que la proporción de imágenes de frente es dispar y el porcentaje de unas y otras varía según la localización en la página.\n",
    "<br>\n",
    "Según la gráfica, donde hay más imágenes de perfil es la parte inferior central de la página\n",
    "<br>\n",
    "Donde hay menos es en la parte parte inferior y superior derecha"
   ]
  },
  {
   "cell_type": "code",
   "execution_count": 580,
   "id": "716fd78a",
   "metadata": {},
   "outputs": [
    {
     "data": {
      "text/plain": [
       "<AxesSubplot:xlabel='page', ylabel='Count'>"
      ]
     },
     "execution_count": 580,
     "metadata": {},
     "output_type": "execute_result"
    },
    {
     "data": {
      "image/png": "[encoded data removed]",
      "text/plain": [
       "<Figure size 640x480 with 1 Axes>"
      ]
     },
     "metadata": {},
     "output_type": "display_data"
    }
   ],
   "source": [
    "sns.histplot(data=df, x='page', hue='model_photography',bins=30)"
   ]
  },
  {
   "cell_type": "markdown",
   "id": "6617f19c",
   "metadata": {},
   "source": [
    "Hay muchos más productos en la página 1, donde también aparecen muchas más imágenes de frente.\n",
    "<br>\n",
    "En la página 4 y 5, donde hay menores ventas, se usan más imágenes de perfil. Esto puede indicarnos que dichas páginas no están enfocadas a venta o son más de exposición. Quizás habría que cambiar las imágenes de estas páginas. \n",
    "<br>\n",
    "Como mencioné con anterioridad, el hecho de no conocer la estructura de la página web (cómo se organizan las diferentes páginas) resulta imposible realizar un análisis de ventas según las páginas y dar consejos de mejora de la web y experiencia de usuario."
   ]
  },
  {
   "cell_type": "markdown",
   "id": "2e6b015f",
   "metadata": {},
   "source": [
    "### Clics"
   ]
  },
  {
   "cell_type": "code",
   "execution_count": 583,
   "id": "5ab3a001",
   "metadata": {},
   "outputs": [
    {
     "data": {
      "text/plain": [
       "count    165474.000000\n",
       "mean          9.817476\n",
       "std          13.478411\n",
       "min           1.000000\n",
       "25%           2.000000\n",
       "50%           6.000000\n",
       "75%          12.000000\n",
       "max         195.000000\n",
       "Name: clics, dtype: float64"
      ]
     },
     "execution_count": 583,
     "metadata": {},
     "output_type": "execute_result"
    }
   ],
   "source": [
    "df.clics.describe()"
   ]
  },
  {
   "cell_type": "markdown",
   "id": "bfadb4ce",
   "metadata": {},
   "source": [
    "El máximo de clics por sesión es de 195\n",
    "<br>\n",
    "La media es de 9.8 clics por sesión, lo cual me resulta muy bajo (parece que las personas entran a la página y ya tienen localizado el producto)\n",
    "<br>\n",
    "El mínimo es 1, lo cual me parece imposible pues debes dar clic al producto y a comprar como mínimo (ya son dos clics)"
   ]
  },
  {
   "cell_type": "markdown",
   "id": "9122e6a4",
   "metadata": {},
   "source": [
    "### Color"
   ]
  },
  {
   "cell_type": "code",
   "execution_count": 586,
   "id": "8229bb90",
   "metadata": {},
   "outputs": [
    {
     "data": {
      "text/plain": [
       "count    165474.000000\n",
       "mean          6.227655\n",
       "std           4.235606\n",
       "min           1.000000\n",
       "25%           3.000000\n",
       "50%           4.000000\n",
       "75%           9.000000\n",
       "max          14.000000\n",
       "Name: colour, dtype: float64"
      ]
     },
     "execution_count": 586,
     "metadata": {},
     "output_type": "execute_result"
    }
   ],
   "source": [
    "df.colour.describe()"
   ]
  },
  {
   "cell_type": "markdown",
   "id": "91854186",
   "metadata": {},
   "source": [
    "COLOUR: colour of product\n",
    "- 1. beige\n",
    "- 2. black\n",
    "- 3. blue\n",
    "- 4. brown\n",
    "- 5. burgundy\n",
    "- 6. gray\n",
    "- 7. green\n",
    "- 8. navy blue\n",
    "- 9. of many colors\n",
    "- 10. olive\n",
    "- 11. pink\n",
    "- 12. red\n",
    "- 13. violet\n",
    "- 14. white"
   ]
  },
  {
   "cell_type": "code",
   "execution_count": 598,
   "id": "822fba4a",
   "metadata": {},
   "outputs": [],
   "source": [
    "ncolours = df.groupby('colour')['colour'].value_counts()"
   ]
  },
  {
   "cell_type": "code",
   "execution_count": 599,
   "id": "1bbcca7f",
   "metadata": {},
   "outputs": [
    {
     "data": {
      "text/plain": [
       "colour  colour\n",
       "1       1          7785\n",
       "2       2         29764\n",
       "3       3         29259\n",
       "4       4         16517\n",
       "5       5          1667\n",
       "6       6         17476\n",
       "7       7          6876\n",
       "8       8          2664\n",
       "9       9         13531\n",
       "10      10         3579\n",
       "11      11         5292\n",
       "12      12         8830\n",
       "13      13         6295\n",
       "14      14        15939\n",
       "Name: colour, dtype: int64"
      ]
     },
     "execution_count": 599,
     "metadata": {},
     "output_type": "execute_result"
    }
   ],
   "source": [
    "ncolours"
   ]
  },
  {
   "cell_type": "code",
   "execution_count": 601,
   "id": "cc18c6e7",
   "metadata": {},
   "outputs": [
    {
     "data": {
      "text/html": [
       "<div>\n",
       "<style scoped>\n",
       "    .dataframe tbody tr th:only-of-type {\n",
       "        vertical-align: middle;\n",
       "    }\n",
       "\n",
       "    .dataframe tbody tr th {\n",
       "        vertical-align: top;\n",
       "    }\n",
       "\n",
       "    .dataframe thead th {\n",
       "        text-align: right;\n",
       "    }\n",
       "</style>\n",
       "<table border=\"1\" class=\"dataframe\">\n",
       "  <thead>\n",
       "    <tr style=\"text-align: right;\">\n",
       "      <th></th>\n",
       "      <th></th>\n",
       "      <th>colour</th>\n",
       "    </tr>\n",
       "    <tr>\n",
       "      <th>colour</th>\n",
       "      <th>colour</th>\n",
       "      <th></th>\n",
       "    </tr>\n",
       "  </thead>\n",
       "  <tbody>\n",
       "    <tr>\n",
       "      <th>1</th>\n",
       "      <th>1</th>\n",
       "      <td>7785</td>\n",
       "    </tr>\n",
       "    <tr>\n",
       "      <th>2</th>\n",
       "      <th>2</th>\n",
       "      <td>29764</td>\n",
       "    </tr>\n",
       "    <tr>\n",
       "      <th>3</th>\n",
       "      <th>3</th>\n",
       "      <td>29259</td>\n",
       "    </tr>\n",
       "    <tr>\n",
       "      <th>4</th>\n",
       "      <th>4</th>\n",
       "      <td>16517</td>\n",
       "    </tr>\n",
       "    <tr>\n",
       "      <th>5</th>\n",
       "      <th>5</th>\n",
       "      <td>1667</td>\n",
       "    </tr>\n",
       "    <tr>\n",
       "      <th>6</th>\n",
       "      <th>6</th>\n",
       "      <td>17476</td>\n",
       "    </tr>\n",
       "    <tr>\n",
       "      <th>7</th>\n",
       "      <th>7</th>\n",
       "      <td>6876</td>\n",
       "    </tr>\n",
       "    <tr>\n",
       "      <th>8</th>\n",
       "      <th>8</th>\n",
       "      <td>2664</td>\n",
       "    </tr>\n",
       "    <tr>\n",
       "      <th>9</th>\n",
       "      <th>9</th>\n",
       "      <td>13531</td>\n",
       "    </tr>\n",
       "    <tr>\n",
       "      <th>10</th>\n",
       "      <th>10</th>\n",
       "      <td>3579</td>\n",
       "    </tr>\n",
       "    <tr>\n",
       "      <th>11</th>\n",
       "      <th>11</th>\n",
       "      <td>5292</td>\n",
       "    </tr>\n",
       "    <tr>\n",
       "      <th>12</th>\n",
       "      <th>12</th>\n",
       "      <td>8830</td>\n",
       "    </tr>\n",
       "    <tr>\n",
       "      <th>13</th>\n",
       "      <th>13</th>\n",
       "      <td>6295</td>\n",
       "    </tr>\n",
       "    <tr>\n",
       "      <th>14</th>\n",
       "      <th>14</th>\n",
       "      <td>15939</td>\n",
       "    </tr>\n",
       "  </tbody>\n",
       "</table>\n",
       "</div>"
      ],
      "text/plain": [
       "               colour\n",
       "colour colour        \n",
       "1      1         7785\n",
       "2      2        29764\n",
       "3      3        29259\n",
       "4      4        16517\n",
       "5      5         1667\n",
       "6      6        17476\n",
       "7      7         6876\n",
       "8      8         2664\n",
       "9      9        13531\n",
       "10     10        3579\n",
       "11     11        5292\n",
       "12     12        8830\n",
       "13     13        6295\n",
       "14     14       15939"
      ]
     },
     "execution_count": 601,
     "metadata": {},
     "output_type": "execute_result"
    }
   ],
   "source": [
    "ncolours.to_frame()"
   ]
  },
  {
   "cell_type": "code",
   "execution_count": null,
   "id": "c43d247f",
   "metadata": {},
   "outputs": [],
   "source": []
  }
 ],
 "metadata": {
  "kernelspec": {
   "display_name": "Python 3 (ipykernel)",
   "language": "python",
   "name": "python3"
  },
  "language_info": {
   "codemirror_mode": {
    "name": "ipython",
    "version": 3
   },
   "file_extension": ".py",
   "mimetype": "text/x-python",
   "name": "python",
   "nbconvert_exporter": "python",
   "pygments_lexer": "ipython3",
   "version": "3.9.13"
  }
 },
 "nbformat": 4,
 "nbformat_minor": 5
}
